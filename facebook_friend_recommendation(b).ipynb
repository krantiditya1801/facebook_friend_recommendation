{
  "nbformat": 4,
  "nbformat_minor": 0,
  "metadata": {
    "colab": {
      "name": "FB_featurization.ipynb",
      "provenance": [],
      "collapsed_sections": []
    },
    "kernelspec": {
      "name": "python3",
      "display_name": "Python 3"
    },
    "accelerator": "GPU"
  },
  "cells": [
    {
      "cell_type": "markdown",
      "metadata": {
        "id": "168QPRizVFFg",
        "colab_type": "text"
      },
      "source": [
        "<p style=\"font-size:32px;text-align:center\"> <b>Social network Graph Link Prediction - Facebook Challenge</b> </p>"
      ]
    },
    {
      "cell_type": "code",
      "metadata": {
        "id": "Q8lS7fVyVFFl",
        "colab_type": "code",
        "colab": {}
      },
      "source": [
        "#Importing Libraries\n",
        "# please do go through this python notebook: \n",
        "import warnings\n",
        "warnings.filterwarnings(\"ignore\")\n",
        "\n",
        "import csv\n",
        "import pandas as pd#pandas to create small dataframes \n",
        "import datetime #Convert to unix time\n",
        "import time #Convert to unix time\n",
        "# if numpy is not installed already : pip3 install numpy\n",
        "import numpy as np#Do aritmetic operations on arrays\n",
        "# matplotlib: used to plot graphs\n",
        "import matplotlib\n",
        "import matplotlib.pylab as plt\n",
        "import seaborn as sns#Plots\n",
        "from matplotlib import rcParams#Size of plots  \n",
        "from sklearn.cluster import MiniBatchKMeans, KMeans#Clustering\n",
        "import math\n",
        "import pickle\n",
        "import os\n",
        "# to install xgboost: pip3 install xgboost\n",
        "import xgboost as xgb\n",
        "\n",
        "import warnings\n",
        "import networkx as nx\n",
        "import pdb\n",
        "import pickle\n",
        "from pandas import HDFStore,DataFrame\n",
        "from pandas import read_hdf\n",
        "from scipy.sparse.linalg import svds, eigs\n",
        "import gc\n",
        "from tqdm import tqdm"
      ],
      "execution_count": 0,
      "outputs": []
    },
    {
      "cell_type": "markdown",
      "metadata": {
        "id": "1znHayNeVFFt",
        "colab_type": "text"
      },
      "source": [
        "# 1. Reading Data"
      ]
    },
    {
      "cell_type": "code",
      "metadata": {
        "id": "zNAyRmkUzdWM",
        "colab_type": "code",
        "outputId": "3e6f9948-438a-480d-b03c-4a2fd0a8bcaf",
        "colab": {
          "base_uri": "https://localhost:8080/",
          "height": 54
        }
      },
      "source": [
        "from google.colab import drive\n",
        "drive.mount('/content/drive')"
      ],
      "execution_count": 0,
      "outputs": [
        {
          "output_type": "stream",
          "text": [
            "Drive already mounted at /content/drive; to attempt to forcibly remount, call drive.mount(\"/content/drive\", force_remount=True).\n"
          ],
          "name": "stdout"
        }
      ]
    },
    {
      "cell_type": "code",
      "metadata": {
        "id": "Uq9HbHwEVFFv",
        "colab_type": "code",
        "outputId": "616789ba-0b96-488f-8ba6-0d2a5284d19e",
        "colab": {
          "base_uri": "https://localhost:8080/",
          "height": 119
        }
      },
      "source": [
        "if os.path.isfile('/content/drive/My Drive/fb/data/after_eda/train_pos_after_eda.csv'):\n",
        "    train_graph=nx.read_edgelist('/content/drive/My Drive/fb/data/after_eda/train_pos_after_eda.csv',delimiter=',',create_using=nx.DiGraph(),nodetype=int)\n",
        "    print(nx.info(train_graph))\n",
        "else:\n",
        "    print(\"please run the FB_EDA.ipynb or download the files from drive\")"
      ],
      "execution_count": 0,
      "outputs": [
        {
          "output_type": "stream",
          "text": [
            "Name: \n",
            "Type: DiGraph\n",
            "Number of nodes: 1780722\n",
            "Number of edges: 7550015\n",
            "Average in degree:   4.2399\n",
            "Average out degree:   4.2399\n"
          ],
          "name": "stdout"
        }
      ]
    },
    {
      "cell_type": "markdown",
      "metadata": {
        "id": "HmlUa64tVFF7",
        "colab_type": "text"
      },
      "source": [
        "# 2. Similarity measures"
      ]
    },
    {
      "cell_type": "markdown",
      "metadata": {
        "id": "ivVMUMiWVFF9",
        "colab_type": "text"
      },
      "source": [
        "## 2.1 Jaccard Distance:\n",
        "http://www.statisticshowto.com/jaccard-index/"
      ]
    },
    {
      "cell_type": "markdown",
      "metadata": {
        "id": "NoWCYuRBVFF_",
        "colab_type": "text"
      },
      "source": [
        "\\begin{equation}\n",
        "j = \\frac{|X\\cap Y|}{|X \\cup Y|} \n",
        "\\end{equation}"
      ]
    },
    {
      "cell_type": "code",
      "metadata": {
        "id": "Seo4z5SnVFGB",
        "colab_type": "code",
        "colab": {}
      },
      "source": [
        "#for followees\n",
        "def jaccard_for_followees(a,b):\n",
        "    try:\n",
        "        if len(set(train_graph.successors(a))) == 0  | len(set(train_graph.successors(b))) == 0:\n",
        "            return 0\n",
        "        sim = (len(set(train_graph.successors(a)).intersection(set(train_graph.successors(b)))))/\\\n",
        "                                    (len(set(train_graph.successors(a)).union(set(train_graph.successors(b)))))\n",
        "    except:\n",
        "        return 0\n",
        "    return sim"
      ],
      "execution_count": 0,
      "outputs": []
    },
    {
      "cell_type": "code",
      "metadata": {
        "id": "Oa9FMlS8VFGF",
        "colab_type": "code",
        "outputId": "eb4ccf51-b429-43bd-ac54-1b7119b11a64",
        "colab": {
          "base_uri": "https://localhost:8080/",
          "height": 34
        }
      },
      "source": [
        "#one test case\n",
        "print(jaccard_for_followees(273084,1505602))"
      ],
      "execution_count": 0,
      "outputs": [
        {
          "output_type": "stream",
          "text": [
            "0.0\n"
          ],
          "name": "stdout"
        }
      ]
    },
    {
      "cell_type": "code",
      "metadata": {
        "id": "Gf8njOv6VFGK",
        "colab_type": "code",
        "outputId": "896cc29b-77cf-49d9-fa4d-9348d6149b8d",
        "colab": {
          "base_uri": "https://localhost:8080/",
          "height": 34
        }
      },
      "source": [
        "#node 1635354 not in graph \n",
        "print(jaccard_for_followees(273084,1505602))"
      ],
      "execution_count": 0,
      "outputs": [
        {
          "output_type": "stream",
          "text": [
            "0.0\n"
          ],
          "name": "stdout"
        }
      ]
    },
    {
      "cell_type": "code",
      "metadata": {
        "id": "LO-a5ZkKVFGO",
        "colab_type": "code",
        "colab": {}
      },
      "source": [
        "#for followers\n",
        "def jaccard_for_followers(a,b):\n",
        "    try:\n",
        "        if len(set(train_graph.predecessors(a))) == 0  | len(set(g.predecessors(b))) == 0:\n",
        "            return 0\n",
        "        sim = (len(set(train_graph.predecessors(a)).intersection(set(train_graph.predecessors(b)))))/\\\n",
        "                                 (len(set(train_graph.predecessors(a)).union(set(train_graph.predecessors(b)))))\n",
        "        return sim\n",
        "    except:\n",
        "        return 0"
      ],
      "execution_count": 0,
      "outputs": []
    },
    {
      "cell_type": "code",
      "metadata": {
        "id": "DlbX2t0jVFGQ",
        "colab_type": "code",
        "outputId": "5a5cad7a-95cd-48d3-e8ff-d83c943f5298",
        "colab": {
          "base_uri": "https://localhost:8080/",
          "height": 34
        }
      },
      "source": [
        "print(jaccard_for_followers(273084,470294))"
      ],
      "execution_count": 0,
      "outputs": [
        {
          "output_type": "stream",
          "text": [
            "0\n"
          ],
          "name": "stdout"
        }
      ]
    },
    {
      "cell_type": "code",
      "metadata": {
        "id": "OgeBW2LMVFGU",
        "colab_type": "code",
        "outputId": "08b51d36-48e9-42e7-eec3-1955962145bb",
        "colab": {
          "base_uri": "https://localhost:8080/",
          "height": 34
        }
      },
      "source": [
        "#node 1635354 not in graph \n",
        "print(jaccard_for_followees(669354,1635354))"
      ],
      "execution_count": 0,
      "outputs": [
        {
          "output_type": "stream",
          "text": [
            "0\n"
          ],
          "name": "stdout"
        }
      ]
    },
    {
      "cell_type": "markdown",
      "metadata": {
        "id": "MnH2my2UVFGX",
        "colab_type": "text"
      },
      "source": [
        "## 2.2 Cosine distance"
      ]
    },
    {
      "cell_type": "markdown",
      "metadata": {
        "id": "XNvdBGS2VFGY",
        "colab_type": "text"
      },
      "source": [
        "\\begin{equation}\n",
        "CosineDistance = \\frac{|X\\cap Y|}{|X|\\cdot|Y|} \n",
        "\\end{equation}"
      ]
    },
    {
      "cell_type": "code",
      "metadata": {
        "id": "Iznz67EdVFGZ",
        "colab_type": "code",
        "colab": {}
      },
      "source": [
        "#for followees\n",
        "def cosine_for_followees(a,b):\n",
        "    try:\n",
        "        if len(set(train_graph.successors(a))) == 0  | len(set(train_graph.successors(b))) == 0:\n",
        "            return 0\n",
        "        sim = (len(set(train_graph.successors(a)).intersection(set(train_graph.successors(b)))))/\\\n",
        "                                    (math.sqrt(len(set(train_graph.successors(a)))*len((set(train_graph.successors(b))))))\n",
        "        return sim\n",
        "    except:\n",
        "        return 0"
      ],
      "execution_count": 0,
      "outputs": []
    },
    {
      "cell_type": "code",
      "metadata": {
        "id": "H55ALjkMVFGc",
        "colab_type": "code",
        "outputId": "849ef172-1569-440a-c3aa-2c30d53538da",
        "colab": {
          "base_uri": "https://localhost:8080/",
          "height": 34
        }
      },
      "source": [
        "print(cosine_for_followees(273084,1505602))"
      ],
      "execution_count": 0,
      "outputs": [
        {
          "output_type": "stream",
          "text": [
            "0.0\n"
          ],
          "name": "stdout"
        }
      ]
    },
    {
      "cell_type": "code",
      "metadata": {
        "id": "q0RGKgJFVFGf",
        "colab_type": "code",
        "outputId": "b3ae964d-1fff-4ba7-fba7-478de162172e",
        "colab": {
          "base_uri": "https://localhost:8080/",
          "height": 34
        }
      },
      "source": [
        "print(cosine_for_followees(273084,1635354))"
      ],
      "execution_count": 0,
      "outputs": [
        {
          "output_type": "stream",
          "text": [
            "0\n"
          ],
          "name": "stdout"
        }
      ]
    },
    {
      "cell_type": "code",
      "metadata": {
        "id": "KJ_yGxA0VFGj",
        "colab_type": "code",
        "colab": {}
      },
      "source": [
        "def cosine_for_followers(a,b):\n",
        "    try:\n",
        "        \n",
        "        if len(set(train_graph.predecessors(a))) == 0  | len(set(train_graph.predecessors(b))) == 0:\n",
        "            return 0\n",
        "        sim = (len(set(train_graph.predecessors(a)).intersection(set(train_graph.predecessors(b)))))/\\\n",
        "                                     (math.sqrt(len(set(train_graph.predecessors(a))))*(len(set(train_graph.predecessors(b)))))\n",
        "        return sim\n",
        "    except:\n",
        "        return 0"
      ],
      "execution_count": 0,
      "outputs": []
    },
    {
      "cell_type": "code",
      "metadata": {
        "id": "75QrFJb6VFGm",
        "colab_type": "code",
        "outputId": "e4212bd9-1f8b-49c0-bd7b-3c077d1152c0",
        "colab": {
          "base_uri": "https://localhost:8080/",
          "height": 34
        }
      },
      "source": [
        "print(cosine_for_followers(2,470294))"
      ],
      "execution_count": 0,
      "outputs": [
        {
          "output_type": "stream",
          "text": [
            "0.02886751345948129\n"
          ],
          "name": "stdout"
        }
      ]
    },
    {
      "cell_type": "code",
      "metadata": {
        "id": "-ut4k_F0VFGq",
        "colab_type": "code",
        "outputId": "9ffe9c2d-b060-4cdd-a6fa-20223efb5715",
        "colab": {
          "base_uri": "https://localhost:8080/",
          "height": 34
        }
      },
      "source": [
        "print(cosine_for_followers(669354,1635354))"
      ],
      "execution_count": 0,
      "outputs": [
        {
          "output_type": "stream",
          "text": [
            "0\n"
          ],
          "name": "stdout"
        }
      ]
    },
    {
      "cell_type": "markdown",
      "metadata": {
        "id": "DaIHhWh6VFGv",
        "colab_type": "text"
      },
      "source": [
        "## 3. Ranking Measures"
      ]
    },
    {
      "cell_type": "markdown",
      "metadata": {
        "id": "6nfV1SprVFGx",
        "colab_type": "text"
      },
      "source": [
        "https://networkx.github.io/documentation/networkx-1.10/reference/generated/networkx.algorithms.link_analysis.pagerank_alg.pagerank.html\n",
        "\n",
        "PageRank computes a ranking of the nodes in the graph G based on the structure of the incoming links.\n",
        "\n",
        "<img src='PageRanks-Example.jpg'/>\n",
        "\n",
        "Mathematical PageRanks for a simple network, expressed as percentages. (Google uses a logarithmic scale.) Page C has a higher PageRank than Page E, even though there are fewer links to C; the one link to C comes from an important page and hence is of high value. If web surfers who start on a random page have an 85% likelihood of choosing a random link from the page they are currently visiting, and a 15% likelihood of jumping to a page chosen at random from the entire web, they will reach Page E 8.1% of the time. <b>(The 15% likelihood of jumping to an arbitrary page corresponds to a damping factor of 85%.) Without damping, all web surfers would eventually end up on Pages A, B, or C, and all other pages would have PageRank zero. In the presence of damping, Page A effectively links to all pages in the web, even though it has no outgoing links of its own.</b>"
      ]
    },
    {
      "cell_type": "markdown",
      "metadata": {
        "id": "GkkfYYZ6VFGy",
        "colab_type": "text"
      },
      "source": [
        "## 3.1 Page Ranking\n",
        "\n",
        "https://en.wikipedia.org/wiki/PageRank\n"
      ]
    },
    {
      "cell_type": "code",
      "metadata": {
        "id": "AtvqwZ34VFGy",
        "colab_type": "code",
        "colab": {}
      },
      "source": [
        "if not os.path.isfile('/content/drive/My Drive/fb/data/fea_sample/page_rank.p'):\n",
        "    pr = nx.pagerank(train_graph, alpha=0.85)\n",
        "    pickle.dump(pr,open('/content/drive/My Drive/fb/data/fea_sample/page_rank.p','wb'))\n",
        "else:\n",
        "    pr = pickle.load(open('/content/drive/My Drive/fb/data/fea_sample/page_rank.p','rb'))"
      ],
      "execution_count": 0,
      "outputs": []
    },
    {
      "cell_type": "code",
      "metadata": {
        "id": "lXGKYYf6VFG2",
        "colab_type": "code",
        "outputId": "22fc6dc5-8114-478c-c325-61f98782d88b",
        "colab": {
          "base_uri": "https://localhost:8080/",
          "height": 68
        }
      },
      "source": [
        "print('min',pr[min(pr, key=pr.get)])\n",
        "print('max',pr[max(pr, key=pr.get)])\n",
        "print('mean',float(sum(pr.values())) / len(pr))"
      ],
      "execution_count": 0,
      "outputs": [
        {
          "output_type": "stream",
          "text": [
            "min 1.6556497245737814e-07\n",
            "max 2.7098251341935827e-05\n",
            "mean 5.615699699389075e-07\n"
          ],
          "name": "stdout"
        }
      ]
    },
    {
      "cell_type": "code",
      "metadata": {
        "id": "5xwlah4oVFG4",
        "colab_type": "code",
        "outputId": "df2f3b47-4bd3-4398-e9dd-595fb3a82073",
        "colab": {
          "base_uri": "https://localhost:8080/",
          "height": 34
        }
      },
      "source": [
        "#for imputing to nodes which are not there in Train data\n",
        "mean_pr = float(sum(pr.values())) / len(pr)\n",
        "print(mean_pr)"
      ],
      "execution_count": 0,
      "outputs": [
        {
          "output_type": "stream",
          "text": [
            "5.615699699389075e-07\n"
          ],
          "name": "stdout"
        }
      ]
    },
    {
      "cell_type": "markdown",
      "metadata": {
        "id": "HhPbSL1tVFG7",
        "colab_type": "text"
      },
      "source": [
        "# 4. Other Graph Features"
      ]
    },
    {
      "cell_type": "markdown",
      "metadata": {
        "id": "AgsorCl7VFG8",
        "colab_type": "text"
      },
      "source": [
        "## 4.1 Shortest path:"
      ]
    },
    {
      "cell_type": "markdown",
      "metadata": {
        "id": "E7teH2LCVFG9",
        "colab_type": "text"
      },
      "source": [
        "Getting Shortest path between twoo nodes, if nodes have direct path i.e directly connected then we are removing that edge and calculating path. "
      ]
    },
    {
      "cell_type": "code",
      "metadata": {
        "id": "RA076ovzVFG9",
        "colab_type": "code",
        "colab": {}
      },
      "source": [
        "#if has direct edge then deleting that edge and calculating shortest path\n",
        "def compute_shortest_path_length(a,b):\n",
        "    p=-1\n",
        "    try:\n",
        "        if train_graph.has_edge(a,b):\n",
        "            train_graph.remove_edge(a,b)\n",
        "            p= nx.shortest_path_length(train_graph,source=a,target=b)\n",
        "            train_graph.add_edge(a,b)\n",
        "        else:\n",
        "            p= nx.shortest_path_length(train_graph,source=a,target=b)\n",
        "        return p\n",
        "    except:\n",
        "        return -1"
      ],
      "execution_count": 0,
      "outputs": []
    },
    {
      "cell_type": "code",
      "metadata": {
        "id": "AxnKId11VFG_",
        "colab_type": "code",
        "outputId": "a73b7720-fcdc-470b-bc47-84ce48d1c1cb",
        "colab": {
          "base_uri": "https://localhost:8080/",
          "height": 34
        }
      },
      "source": [
        "#testing\n",
        "compute_shortest_path_length(77697, 826021)"
      ],
      "execution_count": 0,
      "outputs": [
        {
          "output_type": "execute_result",
          "data": {
            "text/plain": [
              "10"
            ]
          },
          "metadata": {
            "tags": []
          },
          "execution_count": 20
        }
      ]
    },
    {
      "cell_type": "code",
      "metadata": {
        "id": "0huWCNtRVFHC",
        "colab_type": "code",
        "outputId": "c976d0d2-d9f5-44b5-b30b-440ecdaa4f45",
        "colab": {
          "base_uri": "https://localhost:8080/",
          "height": 34
        }
      },
      "source": [
        "#testing\n",
        "compute_shortest_path_length(669354,1635354)"
      ],
      "execution_count": 0,
      "outputs": [
        {
          "output_type": "execute_result",
          "data": {
            "text/plain": [
              "-1"
            ]
          },
          "metadata": {
            "tags": []
          },
          "execution_count": 21
        }
      ]
    },
    {
      "cell_type": "markdown",
      "metadata": {
        "id": "baE_95bzVFHF",
        "colab_type": "text"
      },
      "source": [
        "## 4.2 Checking for same community"
      ]
    },
    {
      "cell_type": "code",
      "metadata": {
        "id": "15CIQqAbVFHG",
        "colab_type": "code",
        "colab": {}
      },
      "source": [
        "#getting weekly connected edges from graph \n",
        "wcc=list(nx.weakly_connected_components(train_graph))\n",
        "def belongs_to_same_wcc(a,b):\n",
        "    index = []\n",
        "    if train_graph.has_edge(b,a):\n",
        "        return 1\n",
        "    if train_graph.has_edge(a,b):\n",
        "            for i in wcc:\n",
        "                if a in i:\n",
        "                    index= i\n",
        "                    break\n",
        "            if (b in index):\n",
        "                train_graph.remove_edge(a,b)\n",
        "                if compute_shortest_path_length(a,b)==-1:\n",
        "                    train_graph.add_edge(a,b)\n",
        "                    return 0\n",
        "                else:\n",
        "                    train_graph.add_edge(a,b)\n",
        "                    return 1\n",
        "            else:\n",
        "                return 0\n",
        "    else:\n",
        "            for i in wcc:\n",
        "                if a in i:\n",
        "                    index= i\n",
        "                    break\n",
        "            if(b in index):\n",
        "                return 1\n",
        "            else:\n",
        "                return 0"
      ],
      "execution_count": 0,
      "outputs": []
    },
    {
      "cell_type": "code",
      "metadata": {
        "id": "fAzOHtCFVFHI",
        "colab_type": "code",
        "outputId": "c8126bc7-8baf-492f-e2d9-80014da229f2",
        "colab": {
          "base_uri": "https://localhost:8080/",
          "height": 34
        }
      },
      "source": [
        "belongs_to_same_wcc(861, 1659750)"
      ],
      "execution_count": 0,
      "outputs": [
        {
          "output_type": "execute_result",
          "data": {
            "text/plain": [
              "0"
            ]
          },
          "metadata": {
            "tags": []
          },
          "execution_count": 23
        }
      ]
    },
    {
      "cell_type": "code",
      "metadata": {
        "id": "HMdYpPuGVFHK",
        "colab_type": "code",
        "outputId": "db19e7a2-29ce-48e6-874a-e44423d2644d",
        "colab": {
          "base_uri": "https://localhost:8080/",
          "height": 34
        }
      },
      "source": [
        "belongs_to_same_wcc(669354,1635354)"
      ],
      "execution_count": 0,
      "outputs": [
        {
          "output_type": "execute_result",
          "data": {
            "text/plain": [
              "0"
            ]
          },
          "metadata": {
            "tags": []
          },
          "execution_count": 24
        }
      ]
    },
    {
      "cell_type": "markdown",
      "metadata": {
        "id": "q74nth0OVFHN",
        "colab_type": "text"
      },
      "source": [
        "## 4.3 Adamic/Adar Index:\n",
        "Adamic/Adar measures is defined as inverted sum of degrees of common neighbours for given two vertices.\n",
        "$$A(x,y)=\\sum_{u \\in N(x) \\cap N(y)}\\frac{1}{log(|N(u)|)}$$"
      ]
    },
    {
      "cell_type": "code",
      "metadata": {
        "id": "CeS98LI5VFHO",
        "colab_type": "code",
        "colab": {}
      },
      "source": [
        "#adar index\n",
        "def calc_adar_in(a,b):\n",
        "    sum=0\n",
        "    try:\n",
        "        n=list(set(train_graph.successors(a)).intersection(set(train_graph.successors(b))))\n",
        "        if len(n)!=0:\n",
        "            for i in n:\n",
        "                sum=sum+(1/np.log10(len(list(train_graph.predecessors(i)))))\n",
        "            return sum\n",
        "        else:\n",
        "            return 0\n",
        "    except:\n",
        "        return 0"
      ],
      "execution_count": 0,
      "outputs": []
    },
    {
      "cell_type": "code",
      "metadata": {
        "id": "KezFeRmyVFHQ",
        "colab_type": "code",
        "outputId": "ec98a2a0-6b93-4de9-be75-eaa4604e87ed",
        "colab": {
          "base_uri": "https://localhost:8080/",
          "height": 34
        }
      },
      "source": [
        "calc_adar_in(1,189226)"
      ],
      "execution_count": 0,
      "outputs": [
        {
          "output_type": "execute_result",
          "data": {
            "text/plain": [
              "0"
            ]
          },
          "metadata": {
            "tags": []
          },
          "execution_count": 26
        }
      ]
    },
    {
      "cell_type": "code",
      "metadata": {
        "id": "vj_m89bBVFHV",
        "colab_type": "code",
        "outputId": "e30ba7d2-4253-4a08-9dc0-2bfe289e1a50",
        "colab": {
          "base_uri": "https://localhost:8080/",
          "height": 34
        }
      },
      "source": [
        "calc_adar_in(669354,1635354)"
      ],
      "execution_count": 0,
      "outputs": [
        {
          "output_type": "execute_result",
          "data": {
            "text/plain": [
              "0"
            ]
          },
          "metadata": {
            "tags": []
          },
          "execution_count": 27
        }
      ]
    },
    {
      "cell_type": "markdown",
      "metadata": {
        "id": "pBUudhFAVFHY",
        "colab_type": "text"
      },
      "source": [
        "## 4.4 Is persion was following back:"
      ]
    },
    {
      "cell_type": "code",
      "metadata": {
        "id": "j_mwmopLVFHZ",
        "colab_type": "code",
        "colab": {}
      },
      "source": [
        "def follows_back(a,b):\n",
        "    if train_graph.has_edge(b,a):\n",
        "        return 1\n",
        "    else:\n",
        "        return 0"
      ],
      "execution_count": 0,
      "outputs": []
    },
    {
      "cell_type": "code",
      "metadata": {
        "id": "LdjUXIfbVFHb",
        "colab_type": "code",
        "outputId": "19cd8dc7-f4f5-4c15-d4f1-a8743827e706",
        "colab": {
          "base_uri": "https://localhost:8080/",
          "height": 34
        }
      },
      "source": [
        "follows_back(1,189226)"
      ],
      "execution_count": 0,
      "outputs": [
        {
          "output_type": "execute_result",
          "data": {
            "text/plain": [
              "1"
            ]
          },
          "metadata": {
            "tags": []
          },
          "execution_count": 29
        }
      ]
    },
    {
      "cell_type": "code",
      "metadata": {
        "id": "PmZtL65YVFHf",
        "colab_type": "code",
        "outputId": "6d868bbc-ccb4-41e4-b08d-dd13d5bdc033",
        "colab": {
          "base_uri": "https://localhost:8080/",
          "height": 34
        }
      },
      "source": [
        "follows_back(669354,1635354)"
      ],
      "execution_count": 0,
      "outputs": [
        {
          "output_type": "execute_result",
          "data": {
            "text/plain": [
              "0"
            ]
          },
          "metadata": {
            "tags": []
          },
          "execution_count": 30
        }
      ]
    },
    {
      "cell_type": "markdown",
      "metadata": {
        "id": "29Vrq2EXVFHi",
        "colab_type": "text"
      },
      "source": [
        "## 4.5 Katz Centrality:\n",
        "https://en.wikipedia.org/wiki/Katz_centrality\n",
        "\n",
        "https://www.geeksforgeeks.org/katz-centrality-centrality-measure/\n",
        " Katz centrality computes the centrality for a node \n",
        "    based on the centrality of its neighbors. It is a \n",
        "    generalization of the eigenvector centrality. The\n",
        "    Katz centrality for node `i` is\n",
        " \n",
        "$$x_i = \\alpha \\sum_{j} A_{ij} x_j + \\beta,$$\n",
        "where `A` is the adjacency matrix of the graph G \n",
        "with eigenvalues $$\\lambda$$.\n",
        "\n",
        "The parameter $$\\beta$$ controls the initial centrality and \n",
        "\n",
        "$$\\alpha < \\frac{1}{\\lambda_{max}}.$$"
      ]
    },
    {
      "cell_type": "code",
      "metadata": {
        "id": "CN5OSqrkVFHj",
        "colab_type": "code",
        "colab": {}
      },
      "source": [
        "if not os.path.isfile('/content/drive/My Drive/fb/data/fea_sample/katz.p'):\n",
        "    katz = nx.katz.katz_centrality(train_graph,alpha=0.005,beta=1)\n",
        "    pickle.dump(katz,open('/content/drive/My Drive/fb/data/fea_sample/katz.p','wb'))\n",
        "else:\n",
        "    katz = pickle.load(open('/content/drive/My Drive/fb/data/fea_sample/katz.p','rb'))"
      ],
      "execution_count": 0,
      "outputs": []
    },
    {
      "cell_type": "code",
      "metadata": {
        "id": "gcU83vw7VFHm",
        "colab_type": "code",
        "outputId": "d211d6ce-ba67-496e-8890-b4741ed5a6b4",
        "colab": {
          "base_uri": "https://localhost:8080/",
          "height": 68
        }
      },
      "source": [
        "print('min',katz[min(katz, key=katz.get)])\n",
        "print('max',katz[max(katz, key=katz.get)])\n",
        "print('mean',float(sum(katz.values())) / len(katz))"
      ],
      "execution_count": 0,
      "outputs": [
        {
          "output_type": "stream",
          "text": [
            "min 0.0007313532484065916\n",
            "max 0.003394554981699122\n",
            "mean 0.0007483800935562018\n"
          ],
          "name": "stdout"
        }
      ]
    },
    {
      "cell_type": "code",
      "metadata": {
        "id": "qcboIksiVFHt",
        "colab_type": "code",
        "outputId": "22201a98-d690-4687-f80b-0b5480e69764",
        "colab": {
          "base_uri": "https://localhost:8080/",
          "height": 34
        }
      },
      "source": [
        "mean_katz = float(sum(katz.values())) / len(katz)\n",
        "print(mean_katz)"
      ],
      "execution_count": 0,
      "outputs": [
        {
          "output_type": "stream",
          "text": [
            "0.0007483800935562018\n"
          ],
          "name": "stdout"
        }
      ]
    },
    {
      "cell_type": "markdown",
      "metadata": {
        "id": "SRZqGFgYVFHx",
        "colab_type": "text"
      },
      "source": [
        "## 4.6 Hits Score\n",
        "The HITS algorithm computes two numbers for a node. Authorities estimates the node value based on the incoming links. Hubs estimates the node value based on outgoing links.\n",
        "\n",
        "https://en.wikipedia.org/wiki/HITS_algorithm"
      ]
    },
    {
      "cell_type": "code",
      "metadata": {
        "id": "WXNHRdzUVFHz",
        "colab_type": "code",
        "colab": {}
      },
      "source": [
        "if not os.path.isfile('/content/drive/My Drive/fb/data/fea_sample/hits.p'):\n",
        "    hits = nx.hits(train_graph, max_iter=100, tol=1e-08, nstart=None, normalized=True)\n",
        "    pickle.dump(hits,open('/content/drive/My Drive/fb/data/fea_sample/hits.p','wb'))\n",
        "else:\n",
        "    hits = pickle.load(open('/content/drive/My Drive/fb/data/fea_sample/hits.p','rb'))"
      ],
      "execution_count": 0,
      "outputs": []
    },
    {
      "cell_type": "code",
      "metadata": {
        "id": "PSUwSZBVVFH3",
        "colab_type": "code",
        "outputId": "6ced4b25-7a24-4d86-94ab-039c4f6ddc91",
        "colab": {
          "base_uri": "https://localhost:8080/",
          "height": 68
        }
      },
      "source": [
        "print('min',hits[0][min(hits[0], key=hits[0].get)])\n",
        "print('max',hits[0][max(hits[0], key=hits[0].get)])\n",
        "print('mean',float(sum(hits[0].values())) / len(hits[0]))"
      ],
      "execution_count": 0,
      "outputs": [
        {
          "output_type": "stream",
          "text": [
            "min 0.0\n",
            "max 0.004868653378780953\n",
            "mean 5.615699699344123e-07\n"
          ],
          "name": "stdout"
        }
      ]
    },
    {
      "cell_type": "markdown",
      "metadata": {
        "id": "2DKaBymAu-eg",
        "colab_type": "text"
      },
      "source": [
        "\n",
        "## 4.7  Preferential Attachment\n",
        "\n",
        "Preferential Attachment of two vertices are the multiplication between the number of friends (|Γ(x)|) or followers each vertex has. It may be noted that the similarity index does not require any node neighbor information; therefore, this similarity index has the lowest computational complexity.\n",
        "\n"
      ]
    },
    {
      "cell_type": "code",
      "metadata": {
        "id": "XAsH7mMbvMhz",
        "colab_type": "code",
        "colab": {}
      },
      "source": [
        "def preferential_attachment(a,b):\n",
        "     \n",
        "    try:\n",
        "\n",
        "      return (len(set(train_graph.predecessors(a))))*(len(set(train_graph.predecessors(b))))\n",
        "\n",
        "        \n",
        "    except:\n",
        "\n",
        "        return 0"
      ],
      "execution_count": 0,
      "outputs": []
    },
    {
      "cell_type": "markdown",
      "metadata": {
        "id": "ZZtowOLZVFH6",
        "colab_type": "text"
      },
      "source": [
        "# 5. Featurization"
      ]
    },
    {
      "cell_type": "markdown",
      "metadata": {
        "id": "o6NnRWmLVFH6",
        "colab_type": "text"
      },
      "source": [
        "## 5. 1 Reading a sample of Data from both train and test"
      ]
    },
    {
      "cell_type": "code",
      "metadata": {
        "id": "wgHje1UVVFH8",
        "colab_type": "code",
        "colab": {}
      },
      "source": [
        "import random\n",
        "if os.path.isfile('/content/drive/My Drive/fb/data/after_eda/train_after_eda.csv'):\n",
        "    filename = \"/content/drive/My Drive/fb/data/after_eda/train_after_eda.csv\"\n",
        "    # you uncomment this line, if you dont know the lentgh of the file name\n",
        "    # here we have hardcoded the number of lines as 15100030\n",
        "    # n_train = sum(1 for line in open(filename)) #number of records in file (excludes header)\n",
        "    n_train =  15100028\n",
        "    s = 100000 #desired sample size\n",
        "    skip_train = sorted(random.sample(range(1,n_train+1),n_train-s))\n",
        "    #https://stackoverflow.com/a/22259008/4084039"
      ],
      "execution_count": 0,
      "outputs": []
    },
    {
      "cell_type": "code",
      "metadata": {
        "id": "zOzuRFFlVFH-",
        "colab_type": "code",
        "colab": {}
      },
      "source": [
        "if os.path.isfile('/content/drive/My Drive/fb/data/after_eda/test_after_eda.csv'):\n",
        "    filename = \"/content/drive/My Drive/fb/data/after_eda/test_after_eda.csv\"\n",
        "    # you uncomment this line, if you dont know the lentgh of the file name\n",
        "    # here we have hardcoded the number of lines as 3775008\n",
        "    # n_test = sum(1 for line in open(filename)) #number of records in file (excludes header)\n",
        "    n_test = 3775006\n",
        "    s = 50000 #desired sample size\n",
        "    skip_test = sorted(random.sample(range(1,n_test+1),n_test-s))\n",
        "    #https://stackoverflow.com/a/22259008/4084039"
      ],
      "execution_count": 0,
      "outputs": []
    },
    {
      "cell_type": "code",
      "metadata": {
        "id": "3D_SeUCOVFH_",
        "colab_type": "code",
        "outputId": "90165908-01d9-4c75-bcd0-7d32ba85e771",
        "colab": {
          "base_uri": "https://localhost:8080/",
          "height": 85
        }
      },
      "source": [
        "print(\"Number of rows in the train data file:\", n_train)\n",
        "print(\"Number of rows we are going to elimiate in train data are\",len(skip_train))\n",
        "print(\"Number of rows in the test data file:\", n_test)\n",
        "print(\"Number of rows we are going to elimiate in test data are\",len(skip_test))"
      ],
      "execution_count": 0,
      "outputs": [
        {
          "output_type": "stream",
          "text": [
            "Number of rows in the train data file: 15100028\n",
            "Number of rows we are going to elimiate in train data are 15000028\n",
            "Number of rows in the test data file: 3775006\n",
            "Number of rows we are going to elimiate in test data are 3725006\n"
          ],
          "name": "stdout"
        }
      ]
    },
    {
      "cell_type": "code",
      "metadata": {
        "id": "pCisf6PpVFID",
        "colab_type": "code",
        "outputId": "edb40eb5-51da-46fc-af4a-857bc27fa122",
        "colab": {
          "base_uri": "https://localhost:8080/",
          "height": 128
        }
      },
      "source": [
        "df_final_train = pd.read_csv('/content/drive/My Drive/fb/data/after_eda/train_after_eda.csv', skiprows=skip_train, names=['source_node', 'destination_node'])\n",
        "df_final_train['indicator_link'] = pd.read_csv('/content/drive/My Drive/fb/data/train_y.csv', skiprows=skip_train, names=['indicator_link'])\n",
        "print(\"Our train matrix size \",df_final_train.shape)\n",
        "df_final_train.head(2)"
      ],
      "execution_count": 0,
      "outputs": [
        {
          "output_type": "stream",
          "text": [
            "Our train matrix size  (100002, 3)\n"
          ],
          "name": "stdout"
        },
        {
          "output_type": "execute_result",
          "data": {
            "text/html": [
              "<div>\n",
              "<style scoped>\n",
              "    .dataframe tbody tr th:only-of-type {\n",
              "        vertical-align: middle;\n",
              "    }\n",
              "\n",
              "    .dataframe tbody tr th {\n",
              "        vertical-align: top;\n",
              "    }\n",
              "\n",
              "    .dataframe thead th {\n",
              "        text-align: right;\n",
              "    }\n",
              "</style>\n",
              "<table border=\"1\" class=\"dataframe\">\n",
              "  <thead>\n",
              "    <tr style=\"text-align: right;\">\n",
              "      <th></th>\n",
              "      <th>source_node</th>\n",
              "      <th>destination_node</th>\n",
              "      <th>indicator_link</th>\n",
              "    </tr>\n",
              "  </thead>\n",
              "  <tbody>\n",
              "    <tr>\n",
              "      <th>0</th>\n",
              "      <td>273084</td>\n",
              "      <td>1505602</td>\n",
              "      <td>1</td>\n",
              "    </tr>\n",
              "    <tr>\n",
              "      <th>1</th>\n",
              "      <td>1662480</td>\n",
              "      <td>1551903</td>\n",
              "      <td>1</td>\n",
              "    </tr>\n",
              "  </tbody>\n",
              "</table>\n",
              "</div>"
            ],
            "text/plain": [
              "   source_node  destination_node  indicator_link\n",
              "0       273084           1505602               1\n",
              "1      1662480           1551903               1"
            ]
          },
          "metadata": {
            "tags": []
          },
          "execution_count": 40
        }
      ]
    },
    {
      "cell_type": "code",
      "metadata": {
        "id": "tFn1RkdyVFIH",
        "colab_type": "code",
        "outputId": "7e2f10bb-396e-4616-a16c-78e71a911215",
        "colab": {
          "base_uri": "https://localhost:8080/",
          "height": 128
        }
      },
      "source": [
        "df_final_test = pd.read_csv('/content/drive/My Drive/fb/data/after_eda/test_after_eda.csv', skiprows=skip_test, names=['source_node', 'destination_node'])\n",
        "df_final_test['indicator_link'] = pd.read_csv('/content/drive/My Drive/fb/data/test_y.csv', skiprows=skip_test, names=['indicator_link'])\n",
        "print(\"Our test matrix size \",df_final_test.shape)\n",
        "df_final_test.head(2)"
      ],
      "execution_count": 0,
      "outputs": [
        {
          "output_type": "stream",
          "text": [
            "Our test matrix size  (50002, 3)\n"
          ],
          "name": "stdout"
        },
        {
          "output_type": "execute_result",
          "data": {
            "text/html": [
              "<div>\n",
              "<style scoped>\n",
              "    .dataframe tbody tr th:only-of-type {\n",
              "        vertical-align: middle;\n",
              "    }\n",
              "\n",
              "    .dataframe tbody tr th {\n",
              "        vertical-align: top;\n",
              "    }\n",
              "\n",
              "    .dataframe thead th {\n",
              "        text-align: right;\n",
              "    }\n",
              "</style>\n",
              "<table border=\"1\" class=\"dataframe\">\n",
              "  <thead>\n",
              "    <tr style=\"text-align: right;\">\n",
              "      <th></th>\n",
              "      <th>source_node</th>\n",
              "      <th>destination_node</th>\n",
              "      <th>indicator_link</th>\n",
              "    </tr>\n",
              "  </thead>\n",
              "  <tbody>\n",
              "    <tr>\n",
              "      <th>0</th>\n",
              "      <td>848424</td>\n",
              "      <td>784690</td>\n",
              "      <td>1</td>\n",
              "    </tr>\n",
              "    <tr>\n",
              "      <th>1</th>\n",
              "      <td>806059</td>\n",
              "      <td>1228951</td>\n",
              "      <td>1</td>\n",
              "    </tr>\n",
              "  </tbody>\n",
              "</table>\n",
              "</div>"
            ],
            "text/plain": [
              "   source_node  destination_node  indicator_link\n",
              "0       848424            784690               1\n",
              "1       806059           1228951               1"
            ]
          },
          "metadata": {
            "tags": []
          },
          "execution_count": 41
        }
      ]
    },
    {
      "cell_type": "markdown",
      "metadata": {
        "id": "gIaOWDaDVFIJ",
        "colab_type": "text"
      },
      "source": [
        "## 5.2 Adding a set of features\n",
        "\n",
        "__we will create these each of these features for both train and test data points__\n",
        "<ol>\n",
        "<li>jaccard_followers</li>\n",
        "<li>jaccard_followees</li>\n",
        "<li>cosine_followers</li>\n",
        "<li>cosine_followees</li>\n",
        "<li>num_followers_s</li>\n",
        "<li>num_followees_s</li>\n",
        "<li>num_followers_d</li>\n",
        "<li>num_followees_d</li>\n",
        "<li>inter_followers</li>\n",
        "<li>inter_followees</li>\n",
        "</ol>"
      ]
    },
    {
      "cell_type": "code",
      "metadata": {
        "id": "2qTkOiBcVFIJ",
        "colab_type": "code",
        "colab": {}
      },
      "source": [
        "if not os.path.isfile('/content/drive/My Drive/fb/data/fea_sample/storage_sample_stage1.h5'):\n",
        "    #mapping jaccrd followers to train and test data\n",
        "    df_final_train['jaccard_followers'] = df_final_train.apply(lambda row:\n",
        "                                            jaccard_for_followers(row['source_node'],row['destination_node']),axis=1)\n",
        "    df_final_test['jaccard_followers'] = df_final_test.apply(lambda row:\n",
        "                                            jaccard_for_followers(row['source_node'],row['destination_node']),axis=1)\n",
        "\n",
        "    #mapping jaccrd followees to train and test data\n",
        "    df_final_train['jaccard_followees'] = df_final_train.apply(lambda row:\n",
        "                                            jaccard_for_followees(row['source_node'],row['destination_node']),axis=1)\n",
        "    df_final_test['jaccard_followees'] = df_final_test.apply(lambda row:\n",
        "                                            jaccard_for_followees(row['source_node'],row['destination_node']),axis=1)\n",
        "    \n",
        "\n",
        "    #mapping cosine followers to train and test data\n",
        "    df_final_train['cosine_followers'] = df_final_train.apply(lambda row:\n",
        "                                            cosine_for_followers(row['source_node'],row['destination_node']),axis=1)\n",
        "    df_final_test['cosine_followers'] = df_final_test.apply(lambda row:\n",
        "                                            cosine_for_followers(row['source_node'],row['destination_node']),axis=1)\n",
        "\n",
        "    #mapping cosine followees to train and test data\n",
        "    df_final_train['cosine_followees'] = df_final_train.apply(lambda row:\n",
        "                                            cosine_for_followees(row['source_node'],row['destination_node']),axis=1)\n",
        "    df_final_test['cosine_followees'] = df_final_test.apply(lambda row:\n",
        "                                            cosine_for_followees(row['source_node'],row['destination_node']),axis=1)"
      ],
      "execution_count": 0,
      "outputs": []
    },
    {
      "cell_type": "code",
      "metadata": {
        "id": "fz2eZpSnVFIL",
        "colab_type": "code",
        "colab": {}
      },
      "source": [
        "def compute_features_stage1(df_final):\n",
        "    #calculating no of followers followees for source and destination\n",
        "    #calculating intersection of followers and followees for source and destination\n",
        "    num_followers_s=[]\n",
        "    num_followees_s=[]\n",
        "    num_followers_d=[]\n",
        "    num_followees_d=[]\n",
        "    inter_followers=[]\n",
        "    inter_followees=[]\n",
        "    for i,row in df_final.iterrows():\n",
        "        try:\n",
        "            s1=set(train_graph.predecessors(row['source_node']))\n",
        "            s2=set(train_graph.successors(row['source_node']))\n",
        "        except:\n",
        "            s1 = set()\n",
        "            s2 = set()\n",
        "        try:\n",
        "            d1=set(train_graph.predecessors(row['destination_node']))\n",
        "            d2=set(train_graph.successors(row['destination_node']))\n",
        "        except:\n",
        "            d1 = set()\n",
        "            d2 = set()\n",
        "        num_followers_s.append(len(s1))\n",
        "        num_followees_s.append(len(s2))\n",
        "\n",
        "        num_followers_d.append(len(d1))\n",
        "        num_followees_d.append(len(d2))\n",
        "\n",
        "        inter_followers.append(len(s1.intersection(d1)))\n",
        "        inter_followees.append(len(s2.intersection(d2)))\n",
        "    \n",
        "    return num_followers_s, num_followers_d, num_followees_s, num_followees_d, inter_followers, inter_followees"
      ],
      "execution_count": 0,
      "outputs": []
    },
    {
      "cell_type": "code",
      "metadata": {
        "id": "VFc60kcRVFIN",
        "colab_type": "code",
        "colab": {}
      },
      "source": [
        "if not os.path.isfile('/content/drive/My Drive/fb/data/fea_sample/storage_sample_stage1.h5'):\n",
        "    df_final_train['num_followers_s'], df_final_train['num_followers_d'], \\\n",
        "    df_final_train['num_followees_s'], df_final_train['num_followees_d'], \\\n",
        "    df_final_train['inter_followers'], df_final_train['inter_followees']= compute_features_stage1(df_final_train)\n",
        "    \n",
        "    df_final_test['num_followers_s'], df_final_test['num_followers_d'], \\\n",
        "    df_final_test['num_followees_s'], df_final_test['num_followees_d'], \\\n",
        "    df_final_test['inter_followers'], df_final_test['inter_followees']= compute_features_stage1(df_final_test)\n",
        "    \n",
        "    hdf = HDFStore('/content/drive/My Drive/fb/data/fea_sample/storage_sample_stage1.h5')\n",
        "    hdf.put('train_df',df_final_train, format='table', data_columns=True)\n",
        "    hdf.put('test_df',df_final_test, format='table', data_columns=True)\n",
        "    hdf.close()\n",
        "else:\n",
        "    df_final_train = read_hdf('/content/drive/My Drive/fb/data/fea_sample/storage_sample_stage1.h5', 'train_df',mode='r')\n",
        "    df_final_test = read_hdf('/content/drive/My Drive/fb/data/fea_sample/storage_sample_stage1.h5', 'test_df',mode='r')"
      ],
      "execution_count": 0,
      "outputs": []
    },
    {
      "cell_type": "markdown",
      "metadata": {
        "id": "go_e8hxxVFIO",
        "colab_type": "text"
      },
      "source": [
        "## 5.3 Adding new set of features\n",
        "\n",
        "__we will create these each of these features for both train and test data points__\n",
        "<ol>\n",
        "<li>adar index</li>\n",
        "<li>is following back</li>\n",
        "<li>belongs to same weakly connect components</li>\n",
        "<li>shortest path between source and destination</li>\n",
        "</ol>"
      ]
    },
    {
      "cell_type": "code",
      "metadata": {
        "id": "LqB0Peg0VFIP",
        "colab_type": "code",
        "colab": {}
      },
      "source": [
        "if not os.path.isfile('/content/drive/My Drive/fb/data/fea_sample/storage_sample_stage2.h5'):\n",
        "    #mapping adar index on train\n",
        "    df_final_train['adar_index'] = df_final_train.apply(lambda row: calc_adar_in(row['source_node'],row['destination_node']),axis=1)\n",
        "    #mapping adar index on test\n",
        "    df_final_test['adar_index'] = df_final_test.apply(lambda row: calc_adar_in(row['source_node'],row['destination_node']),axis=1)\n",
        "\n",
        "    #--------------------------------------------------------------------------------------------------------\n",
        "    #mapping followback or not on train\n",
        "    df_final_train['follows_back'] = df_final_train.apply(lambda row: follows_back(row['source_node'],row['destination_node']),axis=1)\n",
        "\n",
        "    #mapping followback or not on test\n",
        "    df_final_test['follows_back'] = df_final_test.apply(lambda row: follows_back(row['source_node'],row['destination_node']),axis=1)\n",
        "\n",
        "    #--------------------------------------------------------------------------------------------------------\n",
        "    #mapping same component of wcc or not on train\n",
        "    df_final_train['same_comp'] = df_final_train.apply(lambda row: belongs_to_same_wcc(row['source_node'],row['destination_node']),axis=1)\n",
        "\n",
        "    ##mapping same component of wcc or not on train\n",
        "    df_final_test['same_comp'] = df_final_test.apply(lambda row: belongs_to_same_wcc(row['source_node'],row['destination_node']),axis=1)\n",
        "    \n",
        "    #--------------------------------------------------------------------------------------------------------\n",
        "    #mapping shortest path on train \n",
        "    df_final_train['shortest_path'] = df_final_train.apply(lambda row: compute_shortest_path_length(row['source_node'],row['destination_node']),axis=1)\n",
        "    #mapping shortest path on test\n",
        "    df_final_test['shortest_path'] = df_final_test.apply(lambda row: compute_shortest_path_length(row['source_node'],row['destination_node']),axis=1)\n",
        "\n",
        "    hdf = HDFStore('/content/drive/My Drive/fb/data/fea_sample/storage_sample_stage2.h5')\n",
        "    hdf.put('train_df',df_final_train, format='table', data_columns=True)\n",
        "    hdf.put('test_df',df_final_test, format='table', data_columns=True)\n",
        "    hdf.close()\n",
        "else:\n",
        "    df_final_train = read_hdf('/content/drive/My Drive/fb/data/fea_sample/storage_sample_stage2.h5', 'train_df',mode='r')\n",
        "    df_final_test = read_hdf('/content/drive/My Drive/fb/data/fea_sample/storage_sample_stage2.h5', 'test_df',mode='r')"
      ],
      "execution_count": 0,
      "outputs": []
    },
    {
      "cell_type": "markdown",
      "metadata": {
        "id": "HJ8Dbma_VFIR",
        "colab_type": "text"
      },
      "source": [
        "## 5.4 Adding new set of features\n",
        "\n",
        "__we will create these each of these features for both train and test data points__\n",
        "<ol>\n",
        "<li>Weight Features\n",
        "    <ul>\n",
        "        <li>weight of incoming edges</li>\n",
        "        <li>weight of outgoing edges</li>\n",
        "        <li>weight of incoming edges + weight of outgoing edges</li>\n",
        "        <li>weight of incoming edges * weight of outgoing edges</li>\n",
        "        <li>2*weight of incoming edges + weight of outgoing edges</li>\n",
        "        <li>weight of incoming edges + 2*weight of outgoing edges</li>\n",
        "    </ul>\n",
        "</li>\n",
        "<li>Page Ranking of source</li>\n",
        "<li>Page Ranking of dest</li>\n",
        "<li>katz of source</li>\n",
        "<li>katz of dest</li>\n",
        "<li>hubs of source</li>\n",
        "<li>hubs of dest</li>\n",
        "<li>authorities_s of source</li>\n",
        "<li>authorities_s of dest</li>\n",
        "</ol>"
      ]
    },
    {
      "cell_type": "markdown",
      "metadata": {
        "id": "iVHI2jtNVFIS",
        "colab_type": "text"
      },
      "source": [
        "#### Weight Features"
      ]
    },
    {
      "cell_type": "markdown",
      "metadata": {
        "id": "rXmUYF9FVFIT",
        "colab_type": "text"
      },
      "source": [
        "In order to determine the similarity of nodes, an edge weight value was calculated between nodes. Edge weight decreases as the neighbor count goes up. Intuitively, consider one million people following a celebrity on a social network then chances are most of them never met each other or the celebrity. On the other hand, if a user has 30 contacts in his/her social network, the chances are higher that many of them know each other. \n",
        "`credit` - Graph-based Features for Supervised Link Prediction\n",
        "William Cukierski, Benjamin Hamner, Bo Yang"
      ]
    },
    {
      "cell_type": "markdown",
      "metadata": {
        "id": "Qzbs2no7VFIV",
        "colab_type": "text"
      },
      "source": [
        "\\begin{equation}\n",
        "W = \\frac{1}{\\sqrt{1+|X|}}\n",
        "\\end{equation}"
      ]
    },
    {
      "cell_type": "markdown",
      "metadata": {
        "id": "kkzUPrWaVFIV",
        "colab_type": "text"
      },
      "source": [
        "it is directed graph so calculated Weighted in and Weighted out differently"
      ]
    },
    {
      "cell_type": "code",
      "metadata": {
        "id": "FgNMzzTbVFIW",
        "colab_type": "code",
        "outputId": "120e3bea-78bc-4987-d8d7-76fd1aa441f9",
        "colab": {
          "base_uri": "https://localhost:8080/",
          "height": 34
        }
      },
      "source": [
        "#weight for source and destination of each link\n",
        "Weight_in = {}\n",
        "Weight_out = {}\n",
        "for i in  tqdm(train_graph.nodes()):\n",
        "    s1=set(train_graph.predecessors(i))\n",
        "    w_in = 1.0/(np.sqrt(1+len(s1)))\n",
        "    Weight_in[i]=w_in\n",
        "    \n",
        "    s2=set(train_graph.successors(i))\n",
        "    w_out = 1.0/(np.sqrt(1+len(s2)))\n",
        "    Weight_out[i]=w_out\n",
        "    \n",
        "#for imputing with mean\n",
        "mean_weight_in = np.mean(list(Weight_in.values()))\n",
        "mean_weight_out = np.mean(list(Weight_out.values()))"
      ],
      "execution_count": 0,
      "outputs": [
        {
          "output_type": "stream",
          "text": [
            "100%|██████████| 1780722/1780722 [00:18<00:00, 98795.41it/s] \n"
          ],
          "name": "stderr"
        }
      ]
    },
    {
      "cell_type": "code",
      "metadata": {
        "id": "AF4yPhIOVFIY",
        "colab_type": "code",
        "colab": {}
      },
      "source": [
        "if not os.path.isfile('/content/drive/My Drive/fb/data/fea_sample/storage_sample_stage3.h5'):\n",
        "    #mapping to pandas train\n",
        "    df_final_train['weight_in'] = df_final_train.destination_node.apply(lambda x: Weight_in.get(x,mean_weight_in))\n",
        "    df_final_train['weight_out'] = df_final_train.source_node.apply(lambda x: Weight_out.get(x,mean_weight_out))\n",
        "\n",
        "    #mapping to pandas test\n",
        "    df_final_test['weight_in'] = df_final_test.destination_node.apply(lambda x: Weight_in.get(x,mean_weight_in))\n",
        "    df_final_test['weight_out'] = df_final_test.source_node.apply(lambda x: Weight_out.get(x,mean_weight_out))\n",
        "\n",
        "\n",
        "    #some features engineerings on the in and out weights\n",
        "    df_final_train['weight_f1'] = df_final_train.weight_in + df_final_train.weight_out\n",
        "    df_final_train['weight_f2'] = df_final_train.weight_in * df_final_train.weight_out\n",
        "    df_final_train['weight_f3'] = (2*df_final_train.weight_in + 1*df_final_train.weight_out)\n",
        "    df_final_train['weight_f4'] = (1*df_final_train.weight_in + 2*df_final_train.weight_out)\n",
        "\n",
        "    #some features engineerings on the in and out weights\n",
        "    df_final_test['weight_f1'] = df_final_test.weight_in + df_final_test.weight_out\n",
        "    df_final_test['weight_f2'] = df_final_test.weight_in * df_final_test.weight_out\n",
        "    df_final_test['weight_f3'] = (2*df_final_test.weight_in + 1*df_final_test.weight_out)\n",
        "    df_final_test['weight_f4'] = (1*df_final_test.weight_in + 2*df_final_test.weight_out)"
      ],
      "execution_count": 0,
      "outputs": []
    },
    {
      "cell_type": "code",
      "metadata": {
        "id": "uhxzhQ9aVFIa",
        "colab_type": "code",
        "colab": {}
      },
      "source": [
        "if not os.path.isfile('/content/drive/My Drive/fb/data/fea_sample/storage_sample_stage3.h5'):\n",
        "    \n",
        "    #page rank for source and destination in Train and Test\n",
        "    #if anything not there in train graph then adding mean page rank \n",
        "    df_final_train['page_rank_s'] = df_final_train.source_node.apply(lambda x:pr.get(x,mean_pr))\n",
        "    df_final_train['page_rank_d'] = df_final_train.destination_node.apply(lambda x:pr.get(x,mean_pr))\n",
        "\n",
        "    df_final_test['page_rank_s'] = df_final_test.source_node.apply(lambda x:pr.get(x,mean_pr))\n",
        "    df_final_test['page_rank_d'] = df_final_test.destination_node.apply(lambda x:pr.get(x,mean_pr))\n",
        "    #================================================================================\n",
        "\n",
        "    #Katz centrality score for source and destination in Train and test\n",
        "    #if anything not there in train graph then adding mean katz score\n",
        "    df_final_train['katz_s'] = df_final_train.source_node.apply(lambda x: katz.get(x,mean_katz))\n",
        "    df_final_train['katz_d'] = df_final_train.destination_node.apply(lambda x: katz.get(x,mean_katz))\n",
        "\n",
        "    df_final_test['katz_s'] = df_final_test.source_node.apply(lambda x: katz.get(x,mean_katz))\n",
        "    df_final_test['katz_d'] = df_final_test.destination_node.apply(lambda x: katz.get(x,mean_katz))\n",
        "    #================================================================================\n",
        "\n",
        "    #Hits algorithm score for source and destination in Train and test\n",
        "    #if anything not there in train graph then adding 0\n",
        "    df_final_train['hubs_s'] = df_final_train.source_node.apply(lambda x: hits[0].get(x,0))\n",
        "    df_final_train['hubs_d'] = df_final_train.destination_node.apply(lambda x: hits[0].get(x,0))\n",
        "\n",
        "    df_final_test['hubs_s'] = df_final_test.source_node.apply(lambda x: hits[0].get(x,0))\n",
        "    df_final_test['hubs_d'] = df_final_test.destination_node.apply(lambda x: hits[0].get(x,0))\n",
        "    #================================================================================\n",
        "\n",
        "    #Hits algorithm score for source and destination in Train and Test\n",
        "    #if anything not there in train graph then adding 0\n",
        "    df_final_train['authorities_s'] = df_final_train.source_node.apply(lambda x: hits[1].get(x,0))\n",
        "    df_final_train['authorities_d'] = df_final_train.destination_node.apply(lambda x: hits[1].get(x,0))\n",
        "\n",
        "    df_final_test['authorities_s'] = df_final_test.source_node.apply(lambda x: hits[1].get(x,0))\n",
        "    df_final_test['authorities_d'] = df_final_test.destination_node.apply(lambda x: hits[1].get(x,0))\n",
        "    #================================================================================\n",
        "\n",
        "    hdf = HDFStore('/content/drive/My Drive/fb/data/fea_sample/storage_sample_stage3.h5')\n",
        "    hdf.put('train_df',df_final_train, format='table', data_columns=True)\n",
        "    hdf.put('test_df',df_final_test, format='table', data_columns=True)\n",
        "    hdf.close()\n",
        "else:\n",
        "    df_final_train = read_hdf('/content/drive/My Drive/fb/data/fea_sample/storage_sample_stage3.h5', 'train_df',mode='r')\n",
        "    df_final_test = read_hdf('/content/drive/My Drive/fb/data/fea_sample/storage_sample_stage3.h5', 'test_df',mode='r')"
      ],
      "execution_count": 0,
      "outputs": []
    },
    {
      "cell_type": "markdown",
      "metadata": {
        "id": "p6xkDfD-VFIb",
        "colab_type": "text"
      },
      "source": [
        "## 5.5 Adding new set of features\n",
        "\n",
        "__we will create these each of these features for both train and test data points__\n",
        "<ol>\n",
        "<li>SVD features for both source and destination</li>\n",
        "</ol>"
      ]
    },
    {
      "cell_type": "code",
      "metadata": {
        "id": "WQO6E65eVFIc",
        "colab_type": "code",
        "colab": {}
      },
      "source": [
        "def svd(x, S):\n",
        "    try:\n",
        "        z = sadj_dict[x]\n",
        "        return S[z]\n",
        "    except:\n",
        "        return [0,0,0,0,0,0]"
      ],
      "execution_count": 0,
      "outputs": []
    },
    {
      "cell_type": "code",
      "metadata": {
        "id": "9sOyLwvNVFId",
        "colab_type": "code",
        "colab": {}
      },
      "source": [
        "#for svd features to get feature vector creating a dict node val and inedx in svd vector\n",
        "sadj_col = sorted(train_graph.nodes())\n",
        "sadj_dict = { val:idx for idx,val in enumerate(sadj_col)}"
      ],
      "execution_count": 0,
      "outputs": []
    },
    {
      "cell_type": "code",
      "metadata": {
        "id": "zLSt8fGVVFIg",
        "colab_type": "code",
        "colab": {}
      },
      "source": [
        "Adj = nx.adjacency_matrix(train_graph,nodelist=sorted(train_graph.nodes())).asfptype()"
      ],
      "execution_count": 0,
      "outputs": []
    },
    {
      "cell_type": "code",
      "metadata": {
        "id": "soq-VAHlVFIh",
        "colab_type": "code",
        "outputId": "4de9a7de-12be-4681-af87-a5f4ceddc080",
        "colab": {
          "base_uri": "https://localhost:8080/",
          "height": 85
        }
      },
      "source": [
        "U, s, V = svds(Adj, k = 6)\n",
        "print('Adjacency matrix Shape',Adj.shape)\n",
        "print('U Shape',U.shape)\n",
        "print('V Shape',V.shape)\n",
        "print('s Shape',s.shape)"
      ],
      "execution_count": 0,
      "outputs": [
        {
          "output_type": "stream",
          "text": [
            "Adjacency matrix Shape (1780722, 1780722)\n",
            "U Shape (1780722, 6)\n",
            "V Shape (6, 1780722)\n",
            "s Shape (6,)\n"
          ],
          "name": "stdout"
        }
      ]
    },
    {
      "cell_type": "code",
      "metadata": {
        "id": "LIrv7HHP2oZZ",
        "colab_type": "code",
        "outputId": "0cef2838-69f1-41fb-e0dc-9416f11dc94f",
        "colab": {
          "base_uri": "https://localhost:8080/",
          "height": 51
        }
      },
      "source": [
        "s"
      ],
      "execution_count": 0,
      "outputs": [
        {
          "output_type": "execute_result",
          "data": {
            "text/plain": [
              "array([ 98.71963254, 100.36027594, 103.01815334, 104.62922418,\n",
              "       125.15765247, 140.75447598])"
            ]
          },
          "metadata": {
            "tags": []
          },
          "execution_count": 53
        }
      ]
    },
    {
      "cell_type": "code",
      "metadata": {
        "id": "ls5fqLFhVFIm",
        "colab_type": "code",
        "colab": {}
      },
      "source": [
        "if not os.path.isfile('/content/drive/My Drive/fb/data/fea_sample/storage_sample_stage4.h5'):\n",
        "    #===================================================================================================\n",
        "    \n",
        "    df_final_train[['svd_u_s_1', 'svd_u_s_2','svd_u_s_3', 'svd_u_s_4', 'svd_u_s_5', 'svd_u_s_6']] = \\\n",
        "    df_final_train.source_node.apply(lambda x: svd(x, U)).apply(pd.Series)\n",
        "    \n",
        "    df_final_train[['svd_u_d_1', 'svd_u_d_2', 'svd_u_d_3', 'svd_u_d_4', 'svd_u_d_5','svd_u_d_6']] = \\\n",
        "    df_final_train.destination_node.apply(lambda x: svd(x, U)).apply(pd.Series)\n",
        "    #===================================================================================================\n",
        "    \n",
        "    df_final_train[['svd_v_s_1','svd_v_s_2', 'svd_v_s_3', 'svd_v_s_4', 'svd_v_s_5', 'svd_v_s_6',]] = \\\n",
        "    df_final_train.source_node.apply(lambda x: svd(x, V.T)).apply(pd.Series)\n",
        "\n",
        "    df_final_train[['svd_v_d_1', 'svd_v_d_2', 'svd_v_d_3', 'svd_v_d_4', 'svd_v_d_5','svd_v_d_6']] = \\\n",
        "    df_final_train.destination_node.apply(lambda x: svd(x, V.T)).apply(pd.Series)\n",
        "    #===================================================================================================\n",
        "    \n",
        "    df_final_test[['svd_u_s_1', 'svd_u_s_2','svd_u_s_3', 'svd_u_s_4', 'svd_u_s_5', 'svd_u_s_6']] = \\\n",
        "    df_final_test.source_node.apply(lambda x: svd(x, U)).apply(pd.Series)\n",
        "    \n",
        "    df_final_test[['svd_u_d_1', 'svd_u_d_2', 'svd_u_d_3', 'svd_u_d_4', 'svd_u_d_5','svd_u_d_6']] = \\\n",
        "    df_final_test.destination_node.apply(lambda x: svd(x, U)).apply(pd.Series)\n",
        "\n",
        "    #===================================================================================================\n",
        "    \n",
        "    df_final_test[['svd_v_s_1','svd_v_s_2', 'svd_v_s_3', 'svd_v_s_4', 'svd_v_s_5', 'svd_v_s_6',]] = \\\n",
        "    df_final_test.source_node.apply(lambda x: svd(x, V.T)).apply(pd.Series)\n",
        "\n",
        "    df_final_test[['svd_v_d_1', 'svd_v_d_2', 'svd_v_d_3', 'svd_v_d_4', 'svd_v_d_5','svd_v_d_6']] = \\\n",
        "    df_final_test.destination_node.apply(lambda x: svd(x, V.T)).apply(pd.Series)\n",
        "    #===================================================================================================\n",
        "\n",
        "    hdf = HDFStore('/content/drive/My Drive/fb/data/fea_sample/storage_sample_stage4.h5')\n",
        "    hdf.put('train_df',df_final_train, format='table', data_columns=True)\n",
        "    hdf.put('test_df',df_final_test, format='table', data_columns=True)\n",
        "    hdf.close()"
      ],
      "execution_count": 0,
      "outputs": []
    },
    {
      "cell_type": "code",
      "metadata": {
        "id": "0-hBtlkzVFIn",
        "colab_type": "code",
        "colab": {}
      },
      "source": [
        "# prepared and stored the data from machine learning models\n",
        "# pelase check the FB_Models.ipynb"
      ],
      "execution_count": 0,
      "outputs": []
    },
    {
      "cell_type": "markdown",
      "metadata": {
        "id": "yot3Oy2wZVpN",
        "colab_type": "text"
      },
      "source": [
        "## Adding svd_dot features & preferential attachment features"
      ]
    },
    {
      "cell_type": "code",
      "metadata": {
        "id": "DShiZTpT4kFi",
        "colab_type": "code",
        "colab": {}
      },
      "source": [
        "#reading\n",
        "from pandas import read_hdf\n",
        "df_final_train = read_hdf('/content/drive/My Drive/fb/data/fea_sample/storage_sample_stage4.h5', 'train_df',mode='r')\n",
        "df_final_test = read_hdf('/content/drive/My Drive/fb/data/fea_sample/storage_sample_stage4.h5', 'test_df',mode='r')"
      ],
      "execution_count": 0,
      "outputs": []
    },
    {
      "cell_type": "code",
      "metadata": {
        "id": "VdUUevymRQwp",
        "colab_type": "code",
        "colab": {}
      },
      "source": [
        "svd_u_s = df_final_train[['svd_u_s_1', 'svd_u_s_2','svd_u_s_3', 'svd_u_s_4', 'svd_u_s_5', 'svd_u_s_6']]\n",
        "svd_u_d = df_final_train[['svd_u_d_1', 'svd_u_d_2', 'svd_u_d_3', 'svd_u_d_4', 'svd_u_d_5','svd_u_d_6']] \n",
        "\n",
        "svd_v_s = df_final_train[['svd_v_s_1','svd_v_s_2', 'svd_v_s_3', 'svd_v_s_4', 'svd_v_s_5', 'svd_v_s_6']]\n",
        "svd_v_d = df_final_train[['svd_v_d_1', 'svd_v_d_2', 'svd_v_d_3', 'svd_v_d_4', 'svd_v_d_5','svd_v_d_6']]\n"
      ],
      "execution_count": 0,
      "outputs": []
    },
    {
      "cell_type": "code",
      "metadata": {
        "id": "wTvF1pNCUUqH",
        "colab_type": "code",
        "colab": {}
      },
      "source": [
        "svd_u_dot_train=[]\n",
        "svd_v_dot_train=[]\n",
        "for i in range(df_final_train.shape[0]):\n",
        "  svd_u_dot_train.append(np.dot(svd_u_s.loc[i],svd_u_d.loc[i]))\n",
        "  svd_v_dot_train.append(np.dot(svd_v_s.loc[i],svd_v_d.loc[i]))\n",
        "\n",
        "df_final_train['svd_u_dot'] = svd_u_dot_train\n",
        "df_final_train['svd_v_dot'] = svd_v_dot_train"
      ],
      "execution_count": 0,
      "outputs": []
    },
    {
      "cell_type": "code",
      "metadata": {
        "id": "IQryQ2ItX6c1",
        "colab_type": "code",
        "outputId": "1de0c27d-c509-4072-f7a9-1b7539440820",
        "colab": {
          "base_uri": "https://localhost:8080/",
          "height": 309
        }
      },
      "source": [
        "df_final_train.head()"
      ],
      "execution_count": 0,
      "outputs": [
        {
          "output_type": "execute_result",
          "data": {
            "text/html": [
              "<div>\n",
              "<style scoped>\n",
              "    .dataframe tbody tr th:only-of-type {\n",
              "        vertical-align: middle;\n",
              "    }\n",
              "\n",
              "    .dataframe tbody tr th {\n",
              "        vertical-align: top;\n",
              "    }\n",
              "\n",
              "    .dataframe thead th {\n",
              "        text-align: right;\n",
              "    }\n",
              "</style>\n",
              "<table border=\"1\" class=\"dataframe\">\n",
              "  <thead>\n",
              "    <tr style=\"text-align: right;\">\n",
              "      <th></th>\n",
              "      <th>source_node</th>\n",
              "      <th>destination_node</th>\n",
              "      <th>indicator_link</th>\n",
              "      <th>jaccard_followers</th>\n",
              "      <th>jaccard_followees</th>\n",
              "      <th>cosine_followers</th>\n",
              "      <th>cosine_followees</th>\n",
              "      <th>num_followers_s</th>\n",
              "      <th>num_followees_s</th>\n",
              "      <th>num_followees_d</th>\n",
              "      <th>inter_followers</th>\n",
              "      <th>inter_followees</th>\n",
              "      <th>adar_index</th>\n",
              "      <th>follows_back</th>\n",
              "      <th>same_comp</th>\n",
              "      <th>shortest_path</th>\n",
              "      <th>weight_in</th>\n",
              "      <th>weight_out</th>\n",
              "      <th>weight_f1</th>\n",
              "      <th>weight_f2</th>\n",
              "      <th>weight_f3</th>\n",
              "      <th>weight_f4</th>\n",
              "      <th>page_rank_s</th>\n",
              "      <th>page_rank_d</th>\n",
              "      <th>katz_s</th>\n",
              "      <th>katz_d</th>\n",
              "      <th>hubs_s</th>\n",
              "      <th>hubs_d</th>\n",
              "      <th>authorities_s</th>\n",
              "      <th>authorities_d</th>\n",
              "      <th>svd_u_s_1</th>\n",
              "      <th>svd_u_s_2</th>\n",
              "      <th>svd_u_s_3</th>\n",
              "      <th>svd_u_s_4</th>\n",
              "      <th>svd_u_s_5</th>\n",
              "      <th>svd_u_s_6</th>\n",
              "      <th>svd_u_d_1</th>\n",
              "      <th>svd_u_d_2</th>\n",
              "      <th>svd_u_d_3</th>\n",
              "      <th>svd_u_d_4</th>\n",
              "      <th>svd_u_d_5</th>\n",
              "      <th>svd_u_d_6</th>\n",
              "      <th>svd_v_s_1</th>\n",
              "      <th>svd_v_s_2</th>\n",
              "      <th>svd_v_s_3</th>\n",
              "      <th>svd_v_s_4</th>\n",
              "      <th>svd_v_s_5</th>\n",
              "      <th>svd_v_s_6</th>\n",
              "      <th>svd_v_d_1</th>\n",
              "      <th>svd_v_d_2</th>\n",
              "      <th>svd_v_d_3</th>\n",
              "      <th>svd_v_d_4</th>\n",
              "      <th>svd_v_d_5</th>\n",
              "      <th>svd_v_d_6</th>\n",
              "      <th>svd_u_dot</th>\n",
              "      <th>svd_v_dot</th>\n",
              "    </tr>\n",
              "  </thead>\n",
              "  <tbody>\n",
              "    <tr>\n",
              "      <th>0</th>\n",
              "      <td>273084</td>\n",
              "      <td>1505602</td>\n",
              "      <td>1</td>\n",
              "      <td>0</td>\n",
              "      <td>0.000000</td>\n",
              "      <td>0.000000</td>\n",
              "      <td>0.000000</td>\n",
              "      <td>6</td>\n",
              "      <td>15</td>\n",
              "      <td>8</td>\n",
              "      <td>0</td>\n",
              "      <td>0</td>\n",
              "      <td>0.000000</td>\n",
              "      <td>0</td>\n",
              "      <td>1</td>\n",
              "      <td>4</td>\n",
              "      <td>0.377964</td>\n",
              "      <td>0.250000</td>\n",
              "      <td>0.627964</td>\n",
              "      <td>0.094491</td>\n",
              "      <td>1.005929</td>\n",
              "      <td>0.877964</td>\n",
              "      <td>2.045290e-06</td>\n",
              "      <td>3.459963e-07</td>\n",
              "      <td>0.000773</td>\n",
              "      <td>0.000756</td>\n",
              "      <td>1.943132e-13</td>\n",
              "      <td>1.941103e-13</td>\n",
              "      <td>9.226339e-16</td>\n",
              "      <td>2.231877e-15</td>\n",
              "      <td>-1.666226e-13</td>\n",
              "      <td>4.613397e-13</td>\n",
              "      <td>1.043044e-05</td>\n",
              "      <td>6.676960e-13</td>\n",
              "      <td>2.451081e-13</td>\n",
              "      <td>3.584580e-12</td>\n",
              "      <td>-2.038017e-11</td>\n",
              "      <td>5.397495e-13</td>\n",
              "      <td>1.068946e-06</td>\n",
              "      <td>1.192357e-12</td>\n",
              "      <td>2.279485e-12</td>\n",
              "      <td>3.580837e-12</td>\n",
              "      <td>-7.216133e-13</td>\n",
              "      <td>3.925975e-13</td>\n",
              "      <td>1.983691e-06</td>\n",
              "      <td>1.545075e-13</td>\n",
              "      <td>8.108434e-13</td>\n",
              "      <td>1.719702e-14</td>\n",
              "      <td>-1.355368e-12</td>\n",
              "      <td>4.675307e-13</td>\n",
              "      <td>1.128591e-06</td>\n",
              "      <td>6.616550e-14</td>\n",
              "      <td>9.771077e-13</td>\n",
              "      <td>4.159752e-14</td>\n",
              "      <td>1.114958e-11</td>\n",
              "      <td>2.238775e-12</td>\n",
              "    </tr>\n",
              "    <tr>\n",
              "      <th>1</th>\n",
              "      <td>832016</td>\n",
              "      <td>1543415</td>\n",
              "      <td>1</td>\n",
              "      <td>0</td>\n",
              "      <td>0.187135</td>\n",
              "      <td>0.028382</td>\n",
              "      <td>0.343828</td>\n",
              "      <td>94</td>\n",
              "      <td>61</td>\n",
              "      <td>142</td>\n",
              "      <td>11</td>\n",
              "      <td>32</td>\n",
              "      <td>16.362912</td>\n",
              "      <td>0</td>\n",
              "      <td>1</td>\n",
              "      <td>2</td>\n",
              "      <td>0.102598</td>\n",
              "      <td>0.127000</td>\n",
              "      <td>0.229598</td>\n",
              "      <td>0.013030</td>\n",
              "      <td>0.332196</td>\n",
              "      <td>0.356598</td>\n",
              "      <td>2.353458e-07</td>\n",
              "      <td>6.427660e-07</td>\n",
              "      <td>0.000845</td>\n",
              "      <td>0.001317</td>\n",
              "      <td>3.906648e-11</td>\n",
              "      <td>9.424102e-11</td>\n",
              "      <td>1.208074e-11</td>\n",
              "      <td>1.273080e-10</td>\n",
              "      <td>7.051088e-13</td>\n",
              "      <td>-8.250564e-11</td>\n",
              "      <td>-1.717702e-10</td>\n",
              "      <td>3.705016e-02</td>\n",
              "      <td>1.032392e-11</td>\n",
              "      <td>7.207497e-10</td>\n",
              "      <td>1.644399e-12</td>\n",
              "      <td>-2.047752e-10</td>\n",
              "      <td>-3.943936e-10</td>\n",
              "      <td>8.617541e-02</td>\n",
              "      <td>2.399540e-11</td>\n",
              "      <td>1.738682e-09</td>\n",
              "      <td>2.685878e-13</td>\n",
              "      <td>-3.316849e-11</td>\n",
              "      <td>-6.236048e-11</td>\n",
              "      <td>1.345726e-02</td>\n",
              "      <td>3.703479e-12</td>\n",
              "      <td>2.251737e-10</td>\n",
              "      <td>1.245101e-12</td>\n",
              "      <td>-1.636948e-10</td>\n",
              "      <td>-3.112650e-10</td>\n",
              "      <td>6.738902e-02</td>\n",
              "      <td>2.607801e-11</td>\n",
              "      <td>2.372904e-09</td>\n",
              "      <td>3.192812e-03</td>\n",
              "      <td>9.068719e-04</td>\n",
              "    </tr>\n",
              "    <tr>\n",
              "      <th>2</th>\n",
              "      <td>1325247</td>\n",
              "      <td>760242</td>\n",
              "      <td>1</td>\n",
              "      <td>0</td>\n",
              "      <td>0.369565</td>\n",
              "      <td>0.156957</td>\n",
              "      <td>0.566038</td>\n",
              "      <td>28</td>\n",
              "      <td>41</td>\n",
              "      <td>22</td>\n",
              "      <td>26</td>\n",
              "      <td>17</td>\n",
              "      <td>10.991826</td>\n",
              "      <td>0</td>\n",
              "      <td>1</td>\n",
              "      <td>2</td>\n",
              "      <td>0.185695</td>\n",
              "      <td>0.154303</td>\n",
              "      <td>0.339999</td>\n",
              "      <td>0.028653</td>\n",
              "      <td>0.525694</td>\n",
              "      <td>0.494302</td>\n",
              "      <td>6.211019e-07</td>\n",
              "      <td>5.179801e-07</td>\n",
              "      <td>0.000885</td>\n",
              "      <td>0.000855</td>\n",
              "      <td>7.730764e-114</td>\n",
              "      <td>4.067322e-114</td>\n",
              "      <td>2.681298e-113</td>\n",
              "      <td>2.199205e-113</td>\n",
              "      <td>-4.900734e-18</td>\n",
              "      <td>1.096831e-18</td>\n",
              "      <td>-6.816555e-19</td>\n",
              "      <td>-2.226453e-18</td>\n",
              "      <td>6.710556e-19</td>\n",
              "      <td>-8.161336e-19</td>\n",
              "      <td>-2.606312e-18</td>\n",
              "      <td>6.392474e-19</td>\n",
              "      <td>-4.245830e-19</td>\n",
              "      <td>-1.315747e-18</td>\n",
              "      <td>3.849627e-19</td>\n",
              "      <td>-1.131971e-18</td>\n",
              "      <td>-1.510265e-18</td>\n",
              "      <td>1.454979e-19</td>\n",
              "      <td>-2.380564e-19</td>\n",
              "      <td>-7.021227e-19</td>\n",
              "      <td>1.940403e-19</td>\n",
              "      <td>-3.365389e-19</td>\n",
              "      <td>-1.238370e-18</td>\n",
              "      <td>1.438175e-19</td>\n",
              "      <td>-1.852863e-19</td>\n",
              "      <td>-5.901864e-19</td>\n",
              "      <td>1.629341e-19</td>\n",
              "      <td>-2.572452e-19</td>\n",
              "      <td>1.787503e-35</td>\n",
              "      <td>2.467873e-36</td>\n",
              "    </tr>\n",
              "    <tr>\n",
              "      <th>3</th>\n",
              "      <td>1368400</td>\n",
              "      <td>1006992</td>\n",
              "      <td>1</td>\n",
              "      <td>0</td>\n",
              "      <td>0.000000</td>\n",
              "      <td>0.000000</td>\n",
              "      <td>0.000000</td>\n",
              "      <td>11</td>\n",
              "      <td>5</td>\n",
              "      <td>7</td>\n",
              "      <td>0</td>\n",
              "      <td>0</td>\n",
              "      <td>0.000000</td>\n",
              "      <td>0</td>\n",
              "      <td>1</td>\n",
              "      <td>6</td>\n",
              "      <td>0.288675</td>\n",
              "      <td>0.408248</td>\n",
              "      <td>0.696923</td>\n",
              "      <td>0.117851</td>\n",
              "      <td>0.985599</td>\n",
              "      <td>1.105172</td>\n",
              "      <td>2.998153e-07</td>\n",
              "      <td>1.704245e-06</td>\n",
              "      <td>0.000739</td>\n",
              "      <td>0.000773</td>\n",
              "      <td>5.443738e-17</td>\n",
              "      <td>4.139999e-16</td>\n",
              "      <td>2.413250e-14</td>\n",
              "      <td>6.688064e-15</td>\n",
              "      <td>-9.965436e-12</td>\n",
              "      <td>4.077137e-13</td>\n",
              "      <td>5.083778e-10</td>\n",
              "      <td>1.985267e-14</td>\n",
              "      <td>2.471968e-12</td>\n",
              "      <td>1.004354e-15</td>\n",
              "      <td>-2.629029e-13</td>\n",
              "      <td>1.428940e-11</td>\n",
              "      <td>9.146784e-11</td>\n",
              "      <td>8.590132e-12</td>\n",
              "      <td>2.406658e-10</td>\n",
              "      <td>7.638106e-15</td>\n",
              "      <td>-2.170899e-13</td>\n",
              "      <td>5.206150e-13</td>\n",
              "      <td>6.058498e-11</td>\n",
              "      <td>1.514614e-11</td>\n",
              "      <td>1.513483e-12</td>\n",
              "      <td>4.498061e-13</td>\n",
              "      <td>-9.818087e-10</td>\n",
              "      <td>3.454672e-11</td>\n",
              "      <td>5.213635e-08</td>\n",
              "      <td>9.595823e-13</td>\n",
              "      <td>3.047045e-10</td>\n",
              "      <td>1.246592e-13</td>\n",
              "      <td>4.710376e-20</td>\n",
              "      <td>3.159386e-18</td>\n",
              "    </tr>\n",
              "    <tr>\n",
              "      <th>4</th>\n",
              "      <td>140165</td>\n",
              "      <td>1708748</td>\n",
              "      <td>1</td>\n",
              "      <td>0</td>\n",
              "      <td>0.000000</td>\n",
              "      <td>0.000000</td>\n",
              "      <td>0.000000</td>\n",
              "      <td>1</td>\n",
              "      <td>11</td>\n",
              "      <td>3</td>\n",
              "      <td>0</td>\n",
              "      <td>0</td>\n",
              "      <td>0.000000</td>\n",
              "      <td>0</td>\n",
              "      <td>0</td>\n",
              "      <td>-1</td>\n",
              "      <td>1.000000</td>\n",
              "      <td>0.301511</td>\n",
              "      <td>1.301511</td>\n",
              "      <td>0.301511</td>\n",
              "      <td>2.301511</td>\n",
              "      <td>1.603023</td>\n",
              "      <td>4.349180e-07</td>\n",
              "      <td>2.089590e-07</td>\n",
              "      <td>0.000751</td>\n",
              "      <td>0.000735</td>\n",
              "      <td>3.887821e-16</td>\n",
              "      <td>4.721269e-16</td>\n",
              "      <td>7.552255e-16</td>\n",
              "      <td>2.734009e-18</td>\n",
              "      <td>-3.408943e-13</td>\n",
              "      <td>1.125207e-13</td>\n",
              "      <td>3.190883e-07</td>\n",
              "      <td>8.550846e-14</td>\n",
              "      <td>1.405351e-13</td>\n",
              "      <td>7.172313e-15</td>\n",
              "      <td>-2.550169e-13</td>\n",
              "      <td>2.424636e-13</td>\n",
              "      <td>2.436301e-07</td>\n",
              "      <td>3.679960e-14</td>\n",
              "      <td>1.348520e-13</td>\n",
              "      <td>8.710393e-15</td>\n",
              "      <td>-4.795514e-13</td>\n",
              "      <td>1.521297e-13</td>\n",
              "      <td>1.197283e-07</td>\n",
              "      <td>1.999809e-14</td>\n",
              "      <td>3.360247e-13</td>\n",
              "      <td>1.407670e-14</td>\n",
              "      <td>0.000000e+00</td>\n",
              "      <td>0.000000e+00</td>\n",
              "      <td>0.000000e+00</td>\n",
              "      <td>0.000000e+00</td>\n",
              "      <td>0.000000e+00</td>\n",
              "      <td>0.000000e+00</td>\n",
              "      <td>7.773952e-14</td>\n",
              "      <td>0.000000e+00</td>\n",
              "    </tr>\n",
              "  </tbody>\n",
              "</table>\n",
              "</div>"
            ],
            "text/plain": [
              "   source_node  destination_node  ...     svd_u_dot     svd_v_dot\n",
              "0       273084           1505602  ...  1.114958e-11  2.238775e-12\n",
              "1       832016           1543415  ...  3.192812e-03  9.068719e-04\n",
              "2      1325247            760242  ...  1.787503e-35  2.467873e-36\n",
              "3      1368400           1006992  ...  4.710376e-20  3.159386e-18\n",
              "4       140165           1708748  ...  7.773952e-14  0.000000e+00\n",
              "\n",
              "[5 rows x 56 columns]"
            ]
          },
          "metadata": {
            "tags": []
          },
          "execution_count": 59
        }
      ]
    },
    {
      "cell_type": "code",
      "metadata": {
        "id": "hI-HLj9JUVS_",
        "colab_type": "code",
        "colab": {}
      },
      "source": [
        "svd_u_s = df_final_test[['svd_u_s_1', 'svd_u_s_2','svd_u_s_3', 'svd_u_s_4', 'svd_u_s_5', 'svd_u_s_6']]\n",
        "svd_u_d = df_final_test[['svd_u_d_1', 'svd_u_d_2', 'svd_u_d_3', 'svd_u_d_4', 'svd_u_d_5','svd_u_d_6']] \n",
        "\n",
        "svd_v_s = df_final_test[['svd_v_s_1','svd_v_s_2', 'svd_v_s_3', 'svd_v_s_4', 'svd_v_s_5', 'svd_v_s_6']]\n",
        "svd_v_d = df_final_test[['svd_v_d_1', 'svd_v_d_2', 'svd_v_d_3', 'svd_v_d_4', 'svd_v_d_5','svd_v_d_6']]\n"
      ],
      "execution_count": 0,
      "outputs": []
    },
    {
      "cell_type": "code",
      "metadata": {
        "id": "dhslMuTVUVQO",
        "colab_type": "code",
        "colab": {}
      },
      "source": [
        "svd_u_dot_test=[]\n",
        "svd_v_dot_test=[]\n",
        "for i in range(df_final_test.shape[0]):\n",
        "  svd_u_dot_test.append(np.dot(svd_u_s.loc[i],svd_u_d.loc[i]))\n",
        "  svd_v_dot_test.append(np.dot(svd_v_s.loc[i],svd_v_d.loc[i]))\n",
        "\n",
        "df_final_test['svd_u_dot'] = svd_u_dot_test\n",
        "df_final_test['svd_v_dot'] = svd_v_dot_test"
      ],
      "execution_count": 0,
      "outputs": []
    },
    {
      "cell_type": "code",
      "metadata": {
        "id": "fdbKRX6NYihs",
        "colab_type": "code",
        "outputId": "23019d08-5376-4b6e-bd92-b5a4164a09df",
        "colab": {
          "base_uri": "https://localhost:8080/",
          "height": 309
        }
      },
      "source": [
        "df_final_test.head()"
      ],
      "execution_count": 0,
      "outputs": [
        {
          "output_type": "execute_result",
          "data": {
            "text/html": [
              "<div>\n",
              "<style scoped>\n",
              "    .dataframe tbody tr th:only-of-type {\n",
              "        vertical-align: middle;\n",
              "    }\n",
              "\n",
              "    .dataframe tbody tr th {\n",
              "        vertical-align: top;\n",
              "    }\n",
              "\n",
              "    .dataframe thead th {\n",
              "        text-align: right;\n",
              "    }\n",
              "</style>\n",
              "<table border=\"1\" class=\"dataframe\">\n",
              "  <thead>\n",
              "    <tr style=\"text-align: right;\">\n",
              "      <th></th>\n",
              "      <th>source_node</th>\n",
              "      <th>destination_node</th>\n",
              "      <th>indicator_link</th>\n",
              "      <th>jaccard_followers</th>\n",
              "      <th>jaccard_followees</th>\n",
              "      <th>cosine_followers</th>\n",
              "      <th>cosine_followees</th>\n",
              "      <th>num_followers_s</th>\n",
              "      <th>num_followees_s</th>\n",
              "      <th>num_followees_d</th>\n",
              "      <th>inter_followers</th>\n",
              "      <th>inter_followees</th>\n",
              "      <th>adar_index</th>\n",
              "      <th>follows_back</th>\n",
              "      <th>same_comp</th>\n",
              "      <th>shortest_path</th>\n",
              "      <th>weight_in</th>\n",
              "      <th>weight_out</th>\n",
              "      <th>weight_f1</th>\n",
              "      <th>weight_f2</th>\n",
              "      <th>weight_f3</th>\n",
              "      <th>weight_f4</th>\n",
              "      <th>page_rank_s</th>\n",
              "      <th>page_rank_d</th>\n",
              "      <th>katz_s</th>\n",
              "      <th>katz_d</th>\n",
              "      <th>hubs_s</th>\n",
              "      <th>hubs_d</th>\n",
              "      <th>authorities_s</th>\n",
              "      <th>authorities_d</th>\n",
              "      <th>svd_u_s_1</th>\n",
              "      <th>svd_u_s_2</th>\n",
              "      <th>svd_u_s_3</th>\n",
              "      <th>svd_u_s_4</th>\n",
              "      <th>svd_u_s_5</th>\n",
              "      <th>svd_u_s_6</th>\n",
              "      <th>svd_u_d_1</th>\n",
              "      <th>svd_u_d_2</th>\n",
              "      <th>svd_u_d_3</th>\n",
              "      <th>svd_u_d_4</th>\n",
              "      <th>svd_u_d_5</th>\n",
              "      <th>svd_u_d_6</th>\n",
              "      <th>svd_v_s_1</th>\n",
              "      <th>svd_v_s_2</th>\n",
              "      <th>svd_v_s_3</th>\n",
              "      <th>svd_v_s_4</th>\n",
              "      <th>svd_v_s_5</th>\n",
              "      <th>svd_v_s_6</th>\n",
              "      <th>svd_v_d_1</th>\n",
              "      <th>svd_v_d_2</th>\n",
              "      <th>svd_v_d_3</th>\n",
              "      <th>svd_v_d_4</th>\n",
              "      <th>svd_v_d_5</th>\n",
              "      <th>svd_v_d_6</th>\n",
              "      <th>svd_u_dot</th>\n",
              "      <th>svd_v_dot</th>\n",
              "    </tr>\n",
              "  </thead>\n",
              "  <tbody>\n",
              "    <tr>\n",
              "      <th>0</th>\n",
              "      <td>848424</td>\n",
              "      <td>784690</td>\n",
              "      <td>1</td>\n",
              "      <td>0</td>\n",
              "      <td>0.0</td>\n",
              "      <td>0.029161</td>\n",
              "      <td>0.000000</td>\n",
              "      <td>14</td>\n",
              "      <td>6</td>\n",
              "      <td>9</td>\n",
              "      <td>1</td>\n",
              "      <td>0</td>\n",
              "      <td>0.000000</td>\n",
              "      <td>1</td>\n",
              "      <td>1</td>\n",
              "      <td>2</td>\n",
              "      <td>0.258199</td>\n",
              "      <td>0.377964</td>\n",
              "      <td>0.636163</td>\n",
              "      <td>0.097590</td>\n",
              "      <td>0.894362</td>\n",
              "      <td>1.014128</td>\n",
              "      <td>6.557971e-07</td>\n",
              "      <td>0.000002</td>\n",
              "      <td>0.000754</td>\n",
              "      <td>0.000786</td>\n",
              "      <td>3.243237e-16</td>\n",
              "      <td>1.745627e-16</td>\n",
              "      <td>2.969838e-15</td>\n",
              "      <td>9.269213e-14</td>\n",
              "      <td>-9.987979e-12</td>\n",
              "      <td>2.283676e-13</td>\n",
              "      <td>1.439968e-10</td>\n",
              "      <td>6.136162e-13</td>\n",
              "      <td>4.188171e-13</td>\n",
              "      <td>5.983361e-15</td>\n",
              "      <td>-1.026186e-11</td>\n",
              "      <td>5.316372e-13</td>\n",
              "      <td>5.843225e-10</td>\n",
              "      <td>1.166047e-13</td>\n",
              "      <td>2.253356e-11</td>\n",
              "      <td>3.220367e-15</td>\n",
              "      <td>-2.148852e-13</td>\n",
              "      <td>1.883148e-13</td>\n",
              "      <td>5.904807e-11</td>\n",
              "      <td>2.701538e-12</td>\n",
              "      <td>4.341620e-13</td>\n",
              "      <td>5.535503e-14</td>\n",
              "      <td>-9.994076e-10</td>\n",
              "      <td>5.791910e-10</td>\n",
              "      <td>3.512364e-07</td>\n",
              "      <td>2.486658e-09</td>\n",
              "      <td>2.771146e-09</td>\n",
              "      <td>1.727694e-12</td>\n",
              "      <td>8.425267e-20</td>\n",
              "      <td>2.074808e-17</td>\n",
              "    </tr>\n",
              "    <tr>\n",
              "      <th>1</th>\n",
              "      <td>483294</td>\n",
              "      <td>1255532</td>\n",
              "      <td>1</td>\n",
              "      <td>0</td>\n",
              "      <td>0.0</td>\n",
              "      <td>0.000000</td>\n",
              "      <td>0.000000</td>\n",
              "      <td>17</td>\n",
              "      <td>1</td>\n",
              "      <td>19</td>\n",
              "      <td>0</td>\n",
              "      <td>0</td>\n",
              "      <td>0.000000</td>\n",
              "      <td>1</td>\n",
              "      <td>1</td>\n",
              "      <td>7</td>\n",
              "      <td>0.235702</td>\n",
              "      <td>0.707107</td>\n",
              "      <td>0.942809</td>\n",
              "      <td>0.166667</td>\n",
              "      <td>1.178511</td>\n",
              "      <td>1.649916</td>\n",
              "      <td>2.172064e-07</td>\n",
              "      <td>0.000001</td>\n",
              "      <td>0.000739</td>\n",
              "      <td>0.000801</td>\n",
              "      <td>1.702625e-19</td>\n",
              "      <td>2.706300e-15</td>\n",
              "      <td>2.522357e-16</td>\n",
              "      <td>5.277458e-15</td>\n",
              "      <td>-2.079151e-15</td>\n",
              "      <td>7.009864e-16</td>\n",
              "      <td>6.970710e-10</td>\n",
              "      <td>9.561769e-15</td>\n",
              "      <td>1.728794e-15</td>\n",
              "      <td>3.122935e-18</td>\n",
              "      <td>-1.960277e-11</td>\n",
              "      <td>2.861530e-11</td>\n",
              "      <td>1.939773e-08</td>\n",
              "      <td>1.907382e-12</td>\n",
              "      <td>3.797410e-11</td>\n",
              "      <td>4.992848e-14</td>\n",
              "      <td>-4.054309e-13</td>\n",
              "      <td>2.895682e-13</td>\n",
              "      <td>2.545382e-10</td>\n",
              "      <td>2.248568e-14</td>\n",
              "      <td>3.600957e-13</td>\n",
              "      <td>4.701436e-15</td>\n",
              "      <td>-9.360516e-12</td>\n",
              "      <td>3.206809e-10</td>\n",
              "      <td>4.668696e-08</td>\n",
              "      <td>6.665777e-12</td>\n",
              "      <td>1.495979e-10</td>\n",
              "      <td>9.836670e-14</td>\n",
              "      <td>1.352160e-17</td>\n",
              "      <td>1.188376e-17</td>\n",
              "    </tr>\n",
              "    <tr>\n",
              "      <th>2</th>\n",
              "      <td>626190</td>\n",
              "      <td>1729265</td>\n",
              "      <td>1</td>\n",
              "      <td>0</td>\n",
              "      <td>0.0</td>\n",
              "      <td>0.000000</td>\n",
              "      <td>0.000000</td>\n",
              "      <td>10</td>\n",
              "      <td>16</td>\n",
              "      <td>9</td>\n",
              "      <td>0</td>\n",
              "      <td>0</td>\n",
              "      <td>0.000000</td>\n",
              "      <td>0</td>\n",
              "      <td>1</td>\n",
              "      <td>5</td>\n",
              "      <td>0.301511</td>\n",
              "      <td>0.242536</td>\n",
              "      <td>0.544047</td>\n",
              "      <td>0.073127</td>\n",
              "      <td>0.845558</td>\n",
              "      <td>0.786583</td>\n",
              "      <td>1.853369e-06</td>\n",
              "      <td>0.000002</td>\n",
              "      <td>0.000789</td>\n",
              "      <td>0.000770</td>\n",
              "      <td>9.426796e-14</td>\n",
              "      <td>4.116616e-16</td>\n",
              "      <td>2.253244e-15</td>\n",
              "      <td>2.079387e-15</td>\n",
              "      <td>-1.782290e-11</td>\n",
              "      <td>2.389627e-11</td>\n",
              "      <td>1.443050e-06</td>\n",
              "      <td>2.358030e-12</td>\n",
              "      <td>2.689638e-12</td>\n",
              "      <td>1.739178e-12</td>\n",
              "      <td>-1.863934e-13</td>\n",
              "      <td>1.806783e-13</td>\n",
              "      <td>2.544597e-07</td>\n",
              "      <td>1.693295e-13</td>\n",
              "      <td>2.712748e-13</td>\n",
              "      <td>7.594641e-15</td>\n",
              "      <td>-4.148103e-13</td>\n",
              "      <td>4.618813e-12</td>\n",
              "      <td>1.122150e-05</td>\n",
              "      <td>1.778927e-12</td>\n",
              "      <td>2.740535e-13</td>\n",
              "      <td>4.199834e-14</td>\n",
              "      <td>-4.253075e-13</td>\n",
              "      <td>4.789463e-13</td>\n",
              "      <td>3.479824e-07</td>\n",
              "      <td>1.630549e-13</td>\n",
              "      <td>3.954708e-13</td>\n",
              "      <td>3.875785e-14</td>\n",
              "      <td>3.671980e-13</td>\n",
              "      <td>3.904885e-12</td>\n",
              "    </tr>\n",
              "    <tr>\n",
              "      <th>3</th>\n",
              "      <td>947219</td>\n",
              "      <td>425228</td>\n",
              "      <td>1</td>\n",
              "      <td>0</td>\n",
              "      <td>0.0</td>\n",
              "      <td>0.000000</td>\n",
              "      <td>0.000000</td>\n",
              "      <td>37</td>\n",
              "      <td>10</td>\n",
              "      <td>34</td>\n",
              "      <td>0</td>\n",
              "      <td>0</td>\n",
              "      <td>0.000000</td>\n",
              "      <td>0</td>\n",
              "      <td>1</td>\n",
              "      <td>3</td>\n",
              "      <td>0.162221</td>\n",
              "      <td>0.301511</td>\n",
              "      <td>0.463733</td>\n",
              "      <td>0.048912</td>\n",
              "      <td>0.625954</td>\n",
              "      <td>0.765244</td>\n",
              "      <td>7.000791e-07</td>\n",
              "      <td>0.000002</td>\n",
              "      <td>0.000778</td>\n",
              "      <td>0.000884</td>\n",
              "      <td>9.876114e-14</td>\n",
              "      <td>1.039593e-13</td>\n",
              "      <td>1.511694e-14</td>\n",
              "      <td>3.478438e-14</td>\n",
              "      <td>-4.491246e-11</td>\n",
              "      <td>9.917404e-13</td>\n",
              "      <td>7.891250e-06</td>\n",
              "      <td>9.458624e-12</td>\n",
              "      <td>2.715848e-11</td>\n",
              "      <td>1.822074e-12</td>\n",
              "      <td>-1.070733e-10</td>\n",
              "      <td>2.888035e-12</td>\n",
              "      <td>2.070703e-05</td>\n",
              "      <td>7.229355e-12</td>\n",
              "      <td>3.563659e-11</td>\n",
              "      <td>1.917977e-12</td>\n",
              "      <td>-8.942488e-12</td>\n",
              "      <td>5.535630e-12</td>\n",
              "      <td>5.223676e-06</td>\n",
              "      <td>7.917166e-13</td>\n",
              "      <td>4.020707e-12</td>\n",
              "      <td>2.817657e-13</td>\n",
              "      <td>-2.162590e-11</td>\n",
              "      <td>6.939194e-12</td>\n",
              "      <td>1.879861e-05</td>\n",
              "      <td>4.384816e-12</td>\n",
              "      <td>1.239414e-11</td>\n",
              "      <td>6.483485e-13</td>\n",
              "      <td>1.634044e-10</td>\n",
              "      <td>9.819784e-11</td>\n",
              "    </tr>\n",
              "    <tr>\n",
              "      <th>4</th>\n",
              "      <td>991374</td>\n",
              "      <td>975044</td>\n",
              "      <td>1</td>\n",
              "      <td>0</td>\n",
              "      <td>0.2</td>\n",
              "      <td>0.042767</td>\n",
              "      <td>0.347833</td>\n",
              "      <td>27</td>\n",
              "      <td>15</td>\n",
              "      <td>27</td>\n",
              "      <td>4</td>\n",
              "      <td>7</td>\n",
              "      <td>6.136433</td>\n",
              "      <td>0</td>\n",
              "      <td>1</td>\n",
              "      <td>2</td>\n",
              "      <td>0.188982</td>\n",
              "      <td>0.250000</td>\n",
              "      <td>0.438982</td>\n",
              "      <td>0.047246</td>\n",
              "      <td>0.627964</td>\n",
              "      <td>0.688982</td>\n",
              "      <td>7.103008e-07</td>\n",
              "      <td>0.000001</td>\n",
              "      <td>0.000779</td>\n",
              "      <td>0.000840</td>\n",
              "      <td>1.557332e-15</td>\n",
              "      <td>1.096037e-14</td>\n",
              "      <td>5.180869e-15</td>\n",
              "      <td>1.296135e-14</td>\n",
              "      <td>-9.778448e-13</td>\n",
              "      <td>5.724610e-13</td>\n",
              "      <td>4.951883e-06</td>\n",
              "      <td>1.396834e-12</td>\n",
              "      <td>2.153249e-11</td>\n",
              "      <td>2.873183e-14</td>\n",
              "      <td>-2.275780e-11</td>\n",
              "      <td>1.007615e-12</td>\n",
              "      <td>2.517628e-06</td>\n",
              "      <td>1.394103e-10</td>\n",
              "      <td>2.961969e-11</td>\n",
              "      <td>2.022115e-13</td>\n",
              "      <td>-3.804979e-12</td>\n",
              "      <td>1.593011e-13</td>\n",
              "      <td>1.035016e-06</td>\n",
              "      <td>1.361574e-13</td>\n",
              "      <td>1.154623e-12</td>\n",
              "      <td>9.656662e-14</td>\n",
              "      <td>-8.742904e-12</td>\n",
              "      <td>7.467370e-12</td>\n",
              "      <td>1.256880e-05</td>\n",
              "      <td>3.636983e-12</td>\n",
              "      <td>3.948463e-12</td>\n",
              "      <td>2.415863e-13</td>\n",
              "      <td>1.246700e-11</td>\n",
              "      <td>1.300892e-11</td>\n",
              "    </tr>\n",
              "  </tbody>\n",
              "</table>\n",
              "</div>"
            ],
            "text/plain": [
              "   source_node  destination_node  ...     svd_u_dot     svd_v_dot\n",
              "0       848424            784690  ...  8.425267e-20  2.074808e-17\n",
              "1       483294           1255532  ...  1.352160e-17  1.188376e-17\n",
              "2       626190           1729265  ...  3.671980e-13  3.904885e-12\n",
              "3       947219            425228  ...  1.634044e-10  9.819784e-11\n",
              "4       991374            975044  ...  1.246700e-11  1.300892e-11\n",
              "\n",
              "[5 rows x 56 columns]"
            ]
          },
          "metadata": {
            "tags": []
          },
          "execution_count": 62
        }
      ]
    },
    {
      "cell_type": "code",
      "metadata": {
        "id": "w2NjtJZN36KM",
        "colab_type": "code",
        "colab": {}
      },
      "source": [
        "if not os.path.isfile('/content/drive/My Drive/fb/data/fea_sample/storage_sample_stage5.h5'):\n",
        "    \n",
        "    #mapping followback or not on train\n",
        "    df_final_train['preferential_attachment'] = df_final_train.apply(lambda row: preferential_attachment(row['source_node'],row['destination_node']),axis=1)\n",
        "\n",
        "    #mapping followback or not on test\n",
        "    df_final_test['preferential_attachment'] = df_final_test.apply(lambda row: preferential_attachment(row['source_node'],row['destination_node']),axis=1)\n",
        "\n",
        "\n",
        "#===================================================================================================\n",
        "\n",
        "hdf = HDFStore('/content/drive/My Drive/fb/data/fea_sample/storage_sample_stage5.h5')\n",
        "hdf.put('train_df',df_final_train, format='table', data_columns=True)\n",
        "hdf.put('test_df',df_final_test, format='table', data_columns=True)\n",
        "hdf.close()"
      ],
      "execution_count": 0,
      "outputs": []
    },
    {
      "cell_type": "code",
      "metadata": {
        "id": "G05QnNNJZtKa",
        "colab_type": "code",
        "colab": {}
      },
      "source": [
        "#reading\n",
        "from pandas import read_hdf\n",
        "df_final_train = read_hdf('/content/drive/My Drive/fb/data/fea_sample/storage_sample_stage5.h5', 'train_df',mode='r')\n",
        "df_final_test = read_hdf('/content/drive/My Drive/fb/data/fea_sample/storage_sample_stage5.h5', 'test_df',mode='r')"
      ],
      "execution_count": 0,
      "outputs": []
    },
    {
      "cell_type": "code",
      "metadata": {
        "id": "eZiFpNWsZuiK",
        "colab_type": "code",
        "outputId": "0eef2b4e-5577-413e-d1b9-8aa4db48aab5",
        "colab": {
          "base_uri": "https://localhost:8080/",
          "height": 309
        }
      },
      "source": [
        "df_final_train.head()"
      ],
      "execution_count": 0,
      "outputs": [
        {
          "output_type": "execute_result",
          "data": {
            "text/html": [
              "<div>\n",
              "<style scoped>\n",
              "    .dataframe tbody tr th:only-of-type {\n",
              "        vertical-align: middle;\n",
              "    }\n",
              "\n",
              "    .dataframe tbody tr th {\n",
              "        vertical-align: top;\n",
              "    }\n",
              "\n",
              "    .dataframe thead th {\n",
              "        text-align: right;\n",
              "    }\n",
              "</style>\n",
              "<table border=\"1\" class=\"dataframe\">\n",
              "  <thead>\n",
              "    <tr style=\"text-align: right;\">\n",
              "      <th></th>\n",
              "      <th>source_node</th>\n",
              "      <th>destination_node</th>\n",
              "      <th>indicator_link</th>\n",
              "      <th>jaccard_followers</th>\n",
              "      <th>jaccard_followees</th>\n",
              "      <th>cosine_followers</th>\n",
              "      <th>cosine_followees</th>\n",
              "      <th>num_followers_s</th>\n",
              "      <th>num_followees_s</th>\n",
              "      <th>num_followees_d</th>\n",
              "      <th>inter_followers</th>\n",
              "      <th>inter_followees</th>\n",
              "      <th>adar_index</th>\n",
              "      <th>follows_back</th>\n",
              "      <th>same_comp</th>\n",
              "      <th>shortest_path</th>\n",
              "      <th>weight_in</th>\n",
              "      <th>weight_out</th>\n",
              "      <th>weight_f1</th>\n",
              "      <th>weight_f2</th>\n",
              "      <th>weight_f3</th>\n",
              "      <th>weight_f4</th>\n",
              "      <th>page_rank_s</th>\n",
              "      <th>page_rank_d</th>\n",
              "      <th>katz_s</th>\n",
              "      <th>katz_d</th>\n",
              "      <th>hubs_s</th>\n",
              "      <th>hubs_d</th>\n",
              "      <th>authorities_s</th>\n",
              "      <th>authorities_d</th>\n",
              "      <th>svd_u_s_1</th>\n",
              "      <th>svd_u_s_2</th>\n",
              "      <th>svd_u_s_3</th>\n",
              "      <th>svd_u_s_4</th>\n",
              "      <th>svd_u_s_5</th>\n",
              "      <th>svd_u_s_6</th>\n",
              "      <th>svd_u_d_1</th>\n",
              "      <th>svd_u_d_2</th>\n",
              "      <th>svd_u_d_3</th>\n",
              "      <th>svd_u_d_4</th>\n",
              "      <th>svd_u_d_5</th>\n",
              "      <th>svd_u_d_6</th>\n",
              "      <th>svd_v_s_1</th>\n",
              "      <th>svd_v_s_2</th>\n",
              "      <th>svd_v_s_3</th>\n",
              "      <th>svd_v_s_4</th>\n",
              "      <th>svd_v_s_5</th>\n",
              "      <th>svd_v_s_6</th>\n",
              "      <th>svd_v_d_1</th>\n",
              "      <th>svd_v_d_2</th>\n",
              "      <th>svd_v_d_3</th>\n",
              "      <th>svd_v_d_4</th>\n",
              "      <th>svd_v_d_5</th>\n",
              "      <th>svd_v_d_6</th>\n",
              "      <th>svd_u_dot</th>\n",
              "      <th>svd_v_dot</th>\n",
              "      <th>preferential_attachment</th>\n",
              "    </tr>\n",
              "  </thead>\n",
              "  <tbody>\n",
              "    <tr>\n",
              "      <th>0</th>\n",
              "      <td>273084</td>\n",
              "      <td>1505602</td>\n",
              "      <td>1</td>\n",
              "      <td>0</td>\n",
              "      <td>0.000000</td>\n",
              "      <td>0.000000</td>\n",
              "      <td>0.000000</td>\n",
              "      <td>6</td>\n",
              "      <td>15</td>\n",
              "      <td>8</td>\n",
              "      <td>0</td>\n",
              "      <td>0</td>\n",
              "      <td>0.000000</td>\n",
              "      <td>0</td>\n",
              "      <td>1</td>\n",
              "      <td>4</td>\n",
              "      <td>0.377964</td>\n",
              "      <td>0.250000</td>\n",
              "      <td>0.627964</td>\n",
              "      <td>0.094491</td>\n",
              "      <td>1.005929</td>\n",
              "      <td>0.877964</td>\n",
              "      <td>2.045290e-06</td>\n",
              "      <td>3.459963e-07</td>\n",
              "      <td>0.000773</td>\n",
              "      <td>0.000756</td>\n",
              "      <td>1.943132e-13</td>\n",
              "      <td>1.941103e-13</td>\n",
              "      <td>9.226339e-16</td>\n",
              "      <td>2.231877e-15</td>\n",
              "      <td>-1.666226e-13</td>\n",
              "      <td>4.613397e-13</td>\n",
              "      <td>1.043044e-05</td>\n",
              "      <td>6.676960e-13</td>\n",
              "      <td>2.451081e-13</td>\n",
              "      <td>3.584580e-12</td>\n",
              "      <td>-2.038017e-11</td>\n",
              "      <td>5.397495e-13</td>\n",
              "      <td>1.068946e-06</td>\n",
              "      <td>1.192357e-12</td>\n",
              "      <td>2.279485e-12</td>\n",
              "      <td>3.580837e-12</td>\n",
              "      <td>-7.216133e-13</td>\n",
              "      <td>3.925975e-13</td>\n",
              "      <td>1.983691e-06</td>\n",
              "      <td>1.545075e-13</td>\n",
              "      <td>8.108434e-13</td>\n",
              "      <td>1.719702e-14</td>\n",
              "      <td>-1.355368e-12</td>\n",
              "      <td>4.675307e-13</td>\n",
              "      <td>1.128591e-06</td>\n",
              "      <td>6.616550e-14</td>\n",
              "      <td>9.771077e-13</td>\n",
              "      <td>4.159752e-14</td>\n",
              "      <td>1.114958e-11</td>\n",
              "      <td>2.238775e-12</td>\n",
              "      <td>66</td>\n",
              "    </tr>\n",
              "    <tr>\n",
              "      <th>1</th>\n",
              "      <td>832016</td>\n",
              "      <td>1543415</td>\n",
              "      <td>1</td>\n",
              "      <td>0</td>\n",
              "      <td>0.187135</td>\n",
              "      <td>0.028382</td>\n",
              "      <td>0.343828</td>\n",
              "      <td>94</td>\n",
              "      <td>61</td>\n",
              "      <td>142</td>\n",
              "      <td>11</td>\n",
              "      <td>32</td>\n",
              "      <td>16.362912</td>\n",
              "      <td>0</td>\n",
              "      <td>1</td>\n",
              "      <td>2</td>\n",
              "      <td>0.102598</td>\n",
              "      <td>0.127000</td>\n",
              "      <td>0.229598</td>\n",
              "      <td>0.013030</td>\n",
              "      <td>0.332196</td>\n",
              "      <td>0.356598</td>\n",
              "      <td>2.353458e-07</td>\n",
              "      <td>6.427660e-07</td>\n",
              "      <td>0.000845</td>\n",
              "      <td>0.001317</td>\n",
              "      <td>3.906648e-11</td>\n",
              "      <td>9.424102e-11</td>\n",
              "      <td>1.208074e-11</td>\n",
              "      <td>1.273080e-10</td>\n",
              "      <td>7.051088e-13</td>\n",
              "      <td>-8.250564e-11</td>\n",
              "      <td>-1.717702e-10</td>\n",
              "      <td>3.705016e-02</td>\n",
              "      <td>1.032392e-11</td>\n",
              "      <td>7.207497e-10</td>\n",
              "      <td>1.644399e-12</td>\n",
              "      <td>-2.047752e-10</td>\n",
              "      <td>-3.943936e-10</td>\n",
              "      <td>8.617541e-02</td>\n",
              "      <td>2.399540e-11</td>\n",
              "      <td>1.738682e-09</td>\n",
              "      <td>2.685878e-13</td>\n",
              "      <td>-3.316849e-11</td>\n",
              "      <td>-6.236048e-11</td>\n",
              "      <td>1.345726e-02</td>\n",
              "      <td>3.703479e-12</td>\n",
              "      <td>2.251737e-10</td>\n",
              "      <td>1.245101e-12</td>\n",
              "      <td>-1.636948e-10</td>\n",
              "      <td>-3.112650e-10</td>\n",
              "      <td>6.738902e-02</td>\n",
              "      <td>2.607801e-11</td>\n",
              "      <td>2.372904e-09</td>\n",
              "      <td>3.192812e-03</td>\n",
              "      <td>9.068719e-04</td>\n",
              "      <td>1598</td>\n",
              "    </tr>\n",
              "    <tr>\n",
              "      <th>2</th>\n",
              "      <td>1325247</td>\n",
              "      <td>760242</td>\n",
              "      <td>1</td>\n",
              "      <td>0</td>\n",
              "      <td>0.369565</td>\n",
              "      <td>0.156957</td>\n",
              "      <td>0.566038</td>\n",
              "      <td>28</td>\n",
              "      <td>41</td>\n",
              "      <td>22</td>\n",
              "      <td>26</td>\n",
              "      <td>17</td>\n",
              "      <td>10.991826</td>\n",
              "      <td>0</td>\n",
              "      <td>1</td>\n",
              "      <td>2</td>\n",
              "      <td>0.185695</td>\n",
              "      <td>0.154303</td>\n",
              "      <td>0.339999</td>\n",
              "      <td>0.028653</td>\n",
              "      <td>0.525694</td>\n",
              "      <td>0.494302</td>\n",
              "      <td>6.211019e-07</td>\n",
              "      <td>5.179801e-07</td>\n",
              "      <td>0.000885</td>\n",
              "      <td>0.000855</td>\n",
              "      <td>7.730764e-114</td>\n",
              "      <td>4.067322e-114</td>\n",
              "      <td>2.681298e-113</td>\n",
              "      <td>2.199205e-113</td>\n",
              "      <td>-4.900734e-18</td>\n",
              "      <td>1.096831e-18</td>\n",
              "      <td>-6.816555e-19</td>\n",
              "      <td>-2.226453e-18</td>\n",
              "      <td>6.710556e-19</td>\n",
              "      <td>-8.161336e-19</td>\n",
              "      <td>-2.606312e-18</td>\n",
              "      <td>6.392474e-19</td>\n",
              "      <td>-4.245830e-19</td>\n",
              "      <td>-1.315747e-18</td>\n",
              "      <td>3.849627e-19</td>\n",
              "      <td>-1.131971e-18</td>\n",
              "      <td>-1.510265e-18</td>\n",
              "      <td>1.454979e-19</td>\n",
              "      <td>-2.380564e-19</td>\n",
              "      <td>-7.021227e-19</td>\n",
              "      <td>1.940403e-19</td>\n",
              "      <td>-3.365389e-19</td>\n",
              "      <td>-1.238370e-18</td>\n",
              "      <td>1.438175e-19</td>\n",
              "      <td>-1.852863e-19</td>\n",
              "      <td>-5.901864e-19</td>\n",
              "      <td>1.629341e-19</td>\n",
              "      <td>-2.572452e-19</td>\n",
              "      <td>1.787503e-35</td>\n",
              "      <td>2.467873e-36</td>\n",
              "      <td>980</td>\n",
              "    </tr>\n",
              "    <tr>\n",
              "      <th>3</th>\n",
              "      <td>1368400</td>\n",
              "      <td>1006992</td>\n",
              "      <td>1</td>\n",
              "      <td>0</td>\n",
              "      <td>0.000000</td>\n",
              "      <td>0.000000</td>\n",
              "      <td>0.000000</td>\n",
              "      <td>11</td>\n",
              "      <td>5</td>\n",
              "      <td>7</td>\n",
              "      <td>0</td>\n",
              "      <td>0</td>\n",
              "      <td>0.000000</td>\n",
              "      <td>0</td>\n",
              "      <td>1</td>\n",
              "      <td>6</td>\n",
              "      <td>0.288675</td>\n",
              "      <td>0.408248</td>\n",
              "      <td>0.696923</td>\n",
              "      <td>0.117851</td>\n",
              "      <td>0.985599</td>\n",
              "      <td>1.105172</td>\n",
              "      <td>2.998153e-07</td>\n",
              "      <td>1.704245e-06</td>\n",
              "      <td>0.000739</td>\n",
              "      <td>0.000773</td>\n",
              "      <td>5.443738e-17</td>\n",
              "      <td>4.139999e-16</td>\n",
              "      <td>2.413250e-14</td>\n",
              "      <td>6.688064e-15</td>\n",
              "      <td>-9.965436e-12</td>\n",
              "      <td>4.077137e-13</td>\n",
              "      <td>5.083778e-10</td>\n",
              "      <td>1.985267e-14</td>\n",
              "      <td>2.471968e-12</td>\n",
              "      <td>1.004354e-15</td>\n",
              "      <td>-2.629029e-13</td>\n",
              "      <td>1.428940e-11</td>\n",
              "      <td>9.146784e-11</td>\n",
              "      <td>8.590132e-12</td>\n",
              "      <td>2.406658e-10</td>\n",
              "      <td>7.638106e-15</td>\n",
              "      <td>-2.170899e-13</td>\n",
              "      <td>5.206150e-13</td>\n",
              "      <td>6.058498e-11</td>\n",
              "      <td>1.514614e-11</td>\n",
              "      <td>1.513483e-12</td>\n",
              "      <td>4.498061e-13</td>\n",
              "      <td>-9.818087e-10</td>\n",
              "      <td>3.454672e-11</td>\n",
              "      <td>5.213635e-08</td>\n",
              "      <td>9.595823e-13</td>\n",
              "      <td>3.047045e-10</td>\n",
              "      <td>1.246592e-13</td>\n",
              "      <td>4.710376e-20</td>\n",
              "      <td>3.159386e-18</td>\n",
              "      <td>22</td>\n",
              "    </tr>\n",
              "    <tr>\n",
              "      <th>4</th>\n",
              "      <td>140165</td>\n",
              "      <td>1708748</td>\n",
              "      <td>1</td>\n",
              "      <td>0</td>\n",
              "      <td>0.000000</td>\n",
              "      <td>0.000000</td>\n",
              "      <td>0.000000</td>\n",
              "      <td>1</td>\n",
              "      <td>11</td>\n",
              "      <td>3</td>\n",
              "      <td>0</td>\n",
              "      <td>0</td>\n",
              "      <td>0.000000</td>\n",
              "      <td>0</td>\n",
              "      <td>0</td>\n",
              "      <td>-1</td>\n",
              "      <td>1.000000</td>\n",
              "      <td>0.301511</td>\n",
              "      <td>1.301511</td>\n",
              "      <td>0.301511</td>\n",
              "      <td>2.301511</td>\n",
              "      <td>1.603023</td>\n",
              "      <td>4.349180e-07</td>\n",
              "      <td>2.089590e-07</td>\n",
              "      <td>0.000751</td>\n",
              "      <td>0.000735</td>\n",
              "      <td>3.887821e-16</td>\n",
              "      <td>4.721269e-16</td>\n",
              "      <td>7.552255e-16</td>\n",
              "      <td>2.734009e-18</td>\n",
              "      <td>-3.408943e-13</td>\n",
              "      <td>1.125207e-13</td>\n",
              "      <td>3.190883e-07</td>\n",
              "      <td>8.550846e-14</td>\n",
              "      <td>1.405351e-13</td>\n",
              "      <td>7.172313e-15</td>\n",
              "      <td>-2.550169e-13</td>\n",
              "      <td>2.424636e-13</td>\n",
              "      <td>2.436301e-07</td>\n",
              "      <td>3.679960e-14</td>\n",
              "      <td>1.348520e-13</td>\n",
              "      <td>8.710393e-15</td>\n",
              "      <td>-4.795514e-13</td>\n",
              "      <td>1.521297e-13</td>\n",
              "      <td>1.197283e-07</td>\n",
              "      <td>1.999809e-14</td>\n",
              "      <td>3.360247e-13</td>\n",
              "      <td>1.407670e-14</td>\n",
              "      <td>0.000000e+00</td>\n",
              "      <td>0.000000e+00</td>\n",
              "      <td>0.000000e+00</td>\n",
              "      <td>0.000000e+00</td>\n",
              "      <td>0.000000e+00</td>\n",
              "      <td>0.000000e+00</td>\n",
              "      <td>7.773952e-14</td>\n",
              "      <td>0.000000e+00</td>\n",
              "      <td>5</td>\n",
              "    </tr>\n",
              "  </tbody>\n",
              "</table>\n",
              "</div>"
            ],
            "text/plain": [
              "   source_node  destination_node  ...     svd_v_dot  preferential_attachment\n",
              "0       273084           1505602  ...  2.238775e-12                       66\n",
              "1       832016           1543415  ...  9.068719e-04                     1598\n",
              "2      1325247            760242  ...  2.467873e-36                      980\n",
              "3      1368400           1006992  ...  3.159386e-18                       22\n",
              "4       140165           1708748  ...  0.000000e+00                        5\n",
              "\n",
              "[5 rows x 57 columns]"
            ]
          },
          "metadata": {
            "tags": []
          },
          "execution_count": 66
        }
      ]
    },
    {
      "cell_type": "code",
      "metadata": {
        "id": "fPkcw835ZuxI",
        "colab_type": "code",
        "outputId": "49c79c3b-756d-470a-d083-259b633d5ab9",
        "colab": {
          "base_uri": "https://localhost:8080/",
          "height": 309
        }
      },
      "source": [
        "df_final_test.head()"
      ],
      "execution_count": 0,
      "outputs": [
        {
          "output_type": "execute_result",
          "data": {
            "text/html": [
              "<div>\n",
              "<style scoped>\n",
              "    .dataframe tbody tr th:only-of-type {\n",
              "        vertical-align: middle;\n",
              "    }\n",
              "\n",
              "    .dataframe tbody tr th {\n",
              "        vertical-align: top;\n",
              "    }\n",
              "\n",
              "    .dataframe thead th {\n",
              "        text-align: right;\n",
              "    }\n",
              "</style>\n",
              "<table border=\"1\" class=\"dataframe\">\n",
              "  <thead>\n",
              "    <tr style=\"text-align: right;\">\n",
              "      <th></th>\n",
              "      <th>source_node</th>\n",
              "      <th>destination_node</th>\n",
              "      <th>indicator_link</th>\n",
              "      <th>jaccard_followers</th>\n",
              "      <th>jaccard_followees</th>\n",
              "      <th>cosine_followers</th>\n",
              "      <th>cosine_followees</th>\n",
              "      <th>num_followers_s</th>\n",
              "      <th>num_followees_s</th>\n",
              "      <th>num_followees_d</th>\n",
              "      <th>inter_followers</th>\n",
              "      <th>inter_followees</th>\n",
              "      <th>adar_index</th>\n",
              "      <th>follows_back</th>\n",
              "      <th>same_comp</th>\n",
              "      <th>shortest_path</th>\n",
              "      <th>weight_in</th>\n",
              "      <th>weight_out</th>\n",
              "      <th>weight_f1</th>\n",
              "      <th>weight_f2</th>\n",
              "      <th>weight_f3</th>\n",
              "      <th>weight_f4</th>\n",
              "      <th>page_rank_s</th>\n",
              "      <th>page_rank_d</th>\n",
              "      <th>katz_s</th>\n",
              "      <th>katz_d</th>\n",
              "      <th>hubs_s</th>\n",
              "      <th>hubs_d</th>\n",
              "      <th>authorities_s</th>\n",
              "      <th>authorities_d</th>\n",
              "      <th>svd_u_s_1</th>\n",
              "      <th>svd_u_s_2</th>\n",
              "      <th>svd_u_s_3</th>\n",
              "      <th>svd_u_s_4</th>\n",
              "      <th>svd_u_s_5</th>\n",
              "      <th>svd_u_s_6</th>\n",
              "      <th>svd_u_d_1</th>\n",
              "      <th>svd_u_d_2</th>\n",
              "      <th>svd_u_d_3</th>\n",
              "      <th>svd_u_d_4</th>\n",
              "      <th>svd_u_d_5</th>\n",
              "      <th>svd_u_d_6</th>\n",
              "      <th>svd_v_s_1</th>\n",
              "      <th>svd_v_s_2</th>\n",
              "      <th>svd_v_s_3</th>\n",
              "      <th>svd_v_s_4</th>\n",
              "      <th>svd_v_s_5</th>\n",
              "      <th>svd_v_s_6</th>\n",
              "      <th>svd_v_d_1</th>\n",
              "      <th>svd_v_d_2</th>\n",
              "      <th>svd_v_d_3</th>\n",
              "      <th>svd_v_d_4</th>\n",
              "      <th>svd_v_d_5</th>\n",
              "      <th>svd_v_d_6</th>\n",
              "      <th>svd_u_dot</th>\n",
              "      <th>svd_v_dot</th>\n",
              "      <th>preferential_attachment</th>\n",
              "    </tr>\n",
              "  </thead>\n",
              "  <tbody>\n",
              "    <tr>\n",
              "      <th>0</th>\n",
              "      <td>848424</td>\n",
              "      <td>784690</td>\n",
              "      <td>1</td>\n",
              "      <td>0</td>\n",
              "      <td>0.0</td>\n",
              "      <td>0.029161</td>\n",
              "      <td>0.000000</td>\n",
              "      <td>14</td>\n",
              "      <td>6</td>\n",
              "      <td>9</td>\n",
              "      <td>1</td>\n",
              "      <td>0</td>\n",
              "      <td>0.000000</td>\n",
              "      <td>1</td>\n",
              "      <td>1</td>\n",
              "      <td>2</td>\n",
              "      <td>0.258199</td>\n",
              "      <td>0.377964</td>\n",
              "      <td>0.636163</td>\n",
              "      <td>0.097590</td>\n",
              "      <td>0.894362</td>\n",
              "      <td>1.014128</td>\n",
              "      <td>6.557971e-07</td>\n",
              "      <td>0.000002</td>\n",
              "      <td>0.000754</td>\n",
              "      <td>0.000786</td>\n",
              "      <td>3.243237e-16</td>\n",
              "      <td>1.745627e-16</td>\n",
              "      <td>2.969838e-15</td>\n",
              "      <td>9.269213e-14</td>\n",
              "      <td>-9.987979e-12</td>\n",
              "      <td>2.283676e-13</td>\n",
              "      <td>1.439968e-10</td>\n",
              "      <td>6.136162e-13</td>\n",
              "      <td>4.188171e-13</td>\n",
              "      <td>5.983361e-15</td>\n",
              "      <td>-1.026186e-11</td>\n",
              "      <td>5.316372e-13</td>\n",
              "      <td>5.843225e-10</td>\n",
              "      <td>1.166047e-13</td>\n",
              "      <td>2.253356e-11</td>\n",
              "      <td>3.220367e-15</td>\n",
              "      <td>-2.148852e-13</td>\n",
              "      <td>1.883148e-13</td>\n",
              "      <td>5.904807e-11</td>\n",
              "      <td>2.701538e-12</td>\n",
              "      <td>4.341620e-13</td>\n",
              "      <td>5.535503e-14</td>\n",
              "      <td>-9.994076e-10</td>\n",
              "      <td>5.791910e-10</td>\n",
              "      <td>3.512364e-07</td>\n",
              "      <td>2.486658e-09</td>\n",
              "      <td>2.771146e-09</td>\n",
              "      <td>1.727694e-12</td>\n",
              "      <td>8.425267e-20</td>\n",
              "      <td>2.074808e-17</td>\n",
              "      <td>84</td>\n",
              "    </tr>\n",
              "    <tr>\n",
              "      <th>1</th>\n",
              "      <td>483294</td>\n",
              "      <td>1255532</td>\n",
              "      <td>1</td>\n",
              "      <td>0</td>\n",
              "      <td>0.0</td>\n",
              "      <td>0.000000</td>\n",
              "      <td>0.000000</td>\n",
              "      <td>17</td>\n",
              "      <td>1</td>\n",
              "      <td>19</td>\n",
              "      <td>0</td>\n",
              "      <td>0</td>\n",
              "      <td>0.000000</td>\n",
              "      <td>1</td>\n",
              "      <td>1</td>\n",
              "      <td>7</td>\n",
              "      <td>0.235702</td>\n",
              "      <td>0.707107</td>\n",
              "      <td>0.942809</td>\n",
              "      <td>0.166667</td>\n",
              "      <td>1.178511</td>\n",
              "      <td>1.649916</td>\n",
              "      <td>2.172064e-07</td>\n",
              "      <td>0.000001</td>\n",
              "      <td>0.000739</td>\n",
              "      <td>0.000801</td>\n",
              "      <td>1.702625e-19</td>\n",
              "      <td>2.706300e-15</td>\n",
              "      <td>2.522357e-16</td>\n",
              "      <td>5.277458e-15</td>\n",
              "      <td>-2.079151e-15</td>\n",
              "      <td>7.009864e-16</td>\n",
              "      <td>6.970710e-10</td>\n",
              "      <td>9.561769e-15</td>\n",
              "      <td>1.728794e-15</td>\n",
              "      <td>3.122935e-18</td>\n",
              "      <td>-1.960277e-11</td>\n",
              "      <td>2.861530e-11</td>\n",
              "      <td>1.939773e-08</td>\n",
              "      <td>1.907382e-12</td>\n",
              "      <td>3.797410e-11</td>\n",
              "      <td>4.992848e-14</td>\n",
              "      <td>-4.054309e-13</td>\n",
              "      <td>2.895682e-13</td>\n",
              "      <td>2.545382e-10</td>\n",
              "      <td>2.248568e-14</td>\n",
              "      <td>3.600957e-13</td>\n",
              "      <td>4.701436e-15</td>\n",
              "      <td>-9.360516e-12</td>\n",
              "      <td>3.206809e-10</td>\n",
              "      <td>4.668696e-08</td>\n",
              "      <td>6.665777e-12</td>\n",
              "      <td>1.495979e-10</td>\n",
              "      <td>9.836670e-14</td>\n",
              "      <td>1.352160e-17</td>\n",
              "      <td>1.188376e-17</td>\n",
              "      <td>34</td>\n",
              "    </tr>\n",
              "    <tr>\n",
              "      <th>2</th>\n",
              "      <td>626190</td>\n",
              "      <td>1729265</td>\n",
              "      <td>1</td>\n",
              "      <td>0</td>\n",
              "      <td>0.0</td>\n",
              "      <td>0.000000</td>\n",
              "      <td>0.000000</td>\n",
              "      <td>10</td>\n",
              "      <td>16</td>\n",
              "      <td>9</td>\n",
              "      <td>0</td>\n",
              "      <td>0</td>\n",
              "      <td>0.000000</td>\n",
              "      <td>0</td>\n",
              "      <td>1</td>\n",
              "      <td>5</td>\n",
              "      <td>0.301511</td>\n",
              "      <td>0.242536</td>\n",
              "      <td>0.544047</td>\n",
              "      <td>0.073127</td>\n",
              "      <td>0.845558</td>\n",
              "      <td>0.786583</td>\n",
              "      <td>1.853369e-06</td>\n",
              "      <td>0.000002</td>\n",
              "      <td>0.000789</td>\n",
              "      <td>0.000770</td>\n",
              "      <td>9.426796e-14</td>\n",
              "      <td>4.116616e-16</td>\n",
              "      <td>2.253244e-15</td>\n",
              "      <td>2.079387e-15</td>\n",
              "      <td>-1.782290e-11</td>\n",
              "      <td>2.389627e-11</td>\n",
              "      <td>1.443050e-06</td>\n",
              "      <td>2.358030e-12</td>\n",
              "      <td>2.689638e-12</td>\n",
              "      <td>1.739178e-12</td>\n",
              "      <td>-1.863934e-13</td>\n",
              "      <td>1.806783e-13</td>\n",
              "      <td>2.544597e-07</td>\n",
              "      <td>1.693295e-13</td>\n",
              "      <td>2.712748e-13</td>\n",
              "      <td>7.594641e-15</td>\n",
              "      <td>-4.148103e-13</td>\n",
              "      <td>4.618813e-12</td>\n",
              "      <td>1.122150e-05</td>\n",
              "      <td>1.778927e-12</td>\n",
              "      <td>2.740535e-13</td>\n",
              "      <td>4.199834e-14</td>\n",
              "      <td>-4.253075e-13</td>\n",
              "      <td>4.789463e-13</td>\n",
              "      <td>3.479824e-07</td>\n",
              "      <td>1.630549e-13</td>\n",
              "      <td>3.954708e-13</td>\n",
              "      <td>3.875785e-14</td>\n",
              "      <td>3.671980e-13</td>\n",
              "      <td>3.904885e-12</td>\n",
              "      <td>150</td>\n",
              "    </tr>\n",
              "    <tr>\n",
              "      <th>3</th>\n",
              "      <td>947219</td>\n",
              "      <td>425228</td>\n",
              "      <td>1</td>\n",
              "      <td>0</td>\n",
              "      <td>0.0</td>\n",
              "      <td>0.000000</td>\n",
              "      <td>0.000000</td>\n",
              "      <td>37</td>\n",
              "      <td>10</td>\n",
              "      <td>34</td>\n",
              "      <td>0</td>\n",
              "      <td>0</td>\n",
              "      <td>0.000000</td>\n",
              "      <td>0</td>\n",
              "      <td>1</td>\n",
              "      <td>3</td>\n",
              "      <td>0.162221</td>\n",
              "      <td>0.301511</td>\n",
              "      <td>0.463733</td>\n",
              "      <td>0.048912</td>\n",
              "      <td>0.625954</td>\n",
              "      <td>0.765244</td>\n",
              "      <td>7.000791e-07</td>\n",
              "      <td>0.000002</td>\n",
              "      <td>0.000778</td>\n",
              "      <td>0.000884</td>\n",
              "      <td>9.876114e-14</td>\n",
              "      <td>1.039593e-13</td>\n",
              "      <td>1.511694e-14</td>\n",
              "      <td>3.478438e-14</td>\n",
              "      <td>-4.491246e-11</td>\n",
              "      <td>9.917404e-13</td>\n",
              "      <td>7.891250e-06</td>\n",
              "      <td>9.458624e-12</td>\n",
              "      <td>2.715848e-11</td>\n",
              "      <td>1.822074e-12</td>\n",
              "      <td>-1.070733e-10</td>\n",
              "      <td>2.888035e-12</td>\n",
              "      <td>2.070703e-05</td>\n",
              "      <td>7.229355e-12</td>\n",
              "      <td>3.563659e-11</td>\n",
              "      <td>1.917977e-12</td>\n",
              "      <td>-8.942488e-12</td>\n",
              "      <td>5.535630e-12</td>\n",
              "      <td>5.223676e-06</td>\n",
              "      <td>7.917166e-13</td>\n",
              "      <td>4.020707e-12</td>\n",
              "      <td>2.817657e-13</td>\n",
              "      <td>-2.162590e-11</td>\n",
              "      <td>6.939194e-12</td>\n",
              "      <td>1.879861e-05</td>\n",
              "      <td>4.384816e-12</td>\n",
              "      <td>1.239414e-11</td>\n",
              "      <td>6.483485e-13</td>\n",
              "      <td>1.634044e-10</td>\n",
              "      <td>9.819784e-11</td>\n",
              "      <td>407</td>\n",
              "    </tr>\n",
              "    <tr>\n",
              "      <th>4</th>\n",
              "      <td>991374</td>\n",
              "      <td>975044</td>\n",
              "      <td>1</td>\n",
              "      <td>0</td>\n",
              "      <td>0.2</td>\n",
              "      <td>0.042767</td>\n",
              "      <td>0.347833</td>\n",
              "      <td>27</td>\n",
              "      <td>15</td>\n",
              "      <td>27</td>\n",
              "      <td>4</td>\n",
              "      <td>7</td>\n",
              "      <td>6.136433</td>\n",
              "      <td>0</td>\n",
              "      <td>1</td>\n",
              "      <td>2</td>\n",
              "      <td>0.188982</td>\n",
              "      <td>0.250000</td>\n",
              "      <td>0.438982</td>\n",
              "      <td>0.047246</td>\n",
              "      <td>0.627964</td>\n",
              "      <td>0.688982</td>\n",
              "      <td>7.103008e-07</td>\n",
              "      <td>0.000001</td>\n",
              "      <td>0.000779</td>\n",
              "      <td>0.000840</td>\n",
              "      <td>1.557332e-15</td>\n",
              "      <td>1.096037e-14</td>\n",
              "      <td>5.180869e-15</td>\n",
              "      <td>1.296135e-14</td>\n",
              "      <td>-9.778448e-13</td>\n",
              "      <td>5.724610e-13</td>\n",
              "      <td>4.951883e-06</td>\n",
              "      <td>1.396834e-12</td>\n",
              "      <td>2.153249e-11</td>\n",
              "      <td>2.873183e-14</td>\n",
              "      <td>-2.275780e-11</td>\n",
              "      <td>1.007615e-12</td>\n",
              "      <td>2.517628e-06</td>\n",
              "      <td>1.394103e-10</td>\n",
              "      <td>2.961969e-11</td>\n",
              "      <td>2.022115e-13</td>\n",
              "      <td>-3.804979e-12</td>\n",
              "      <td>1.593011e-13</td>\n",
              "      <td>1.035016e-06</td>\n",
              "      <td>1.361574e-13</td>\n",
              "      <td>1.154623e-12</td>\n",
              "      <td>9.656662e-14</td>\n",
              "      <td>-8.742904e-12</td>\n",
              "      <td>7.467370e-12</td>\n",
              "      <td>1.256880e-05</td>\n",
              "      <td>3.636983e-12</td>\n",
              "      <td>3.948463e-12</td>\n",
              "      <td>2.415863e-13</td>\n",
              "      <td>1.246700e-11</td>\n",
              "      <td>1.300892e-11</td>\n",
              "      <td>324</td>\n",
              "    </tr>\n",
              "  </tbody>\n",
              "</table>\n",
              "</div>"
            ],
            "text/plain": [
              "   source_node  destination_node  ...     svd_v_dot  preferential_attachment\n",
              "0       848424            784690  ...  2.074808e-17                       84\n",
              "1       483294           1255532  ...  1.188376e-17                       34\n",
              "2       626190           1729265  ...  3.904885e-12                      150\n",
              "3       947219            425228  ...  9.819784e-11                      407\n",
              "4       991374            975044  ...  1.300892e-11                      324\n",
              "\n",
              "[5 rows x 57 columns]"
            ]
          },
          "metadata": {
            "tags": []
          },
          "execution_count": 67
        }
      ]
    }
  ]
}